{
 "cells": [
  {
   "cell_type": "code",
   "execution_count": 1,
   "metadata": {},
   "outputs": [
    {
     "name": "stderr",
     "output_type": "stream",
     "text": [
      "2024-10-04 15:18:36,810 - INFO - Unique PDB IDs extracted: ['6sb5', '6sb4', '6sb1', '6u2j', '6u2k', '6sb3', '6u23', '6u2w', '7nyd', '7nyc', '6h04', '6dlw', '7pag', '3nsj', '2qqh', '2rd7', '3ojy', '5j67', '5j69', '5j68', '6fbm', '3t5o', '5ouq', '5oup', '5own', '4e0s', '2qp2', '6cxo', '8b6u', '4a5w', '3kk7', '4oej', '4ov8', '6r2q', '5ljm', '4leu', '3v89', '4wvm', '4cdb', '7zke', '2grm', '5tc1', '8dml', '5fq6', '7jw3', '6xd4', '4me2', '3l6a', '8jj6', '6gie', '2of3', '3woz', '3urz', '9b9m', '2mbg', '5aoe', '7usd', '8e2h', '5o9z', '8bmx', '4i9e', '7esx', '5v4r', '2o8p', '7qe7', '5y3t', '8qt5', '6v7b', '7c0q', '5dbk', '4cgu', '2qeu', '5xw7', '7zhm', '6swu', '6swy', '6h02', '8sxf', '6vu8', '7naz', '5cwd', '5tqb', '6igx', '3sz7', '5dn7', '5fu7', '6hd5', '4cr2', '5i9d', '2y4u', '7udk', '5f5t', '5mpd', '5edl', '7kpx', '1qrj', 's001']\n",
      "2024-10-04 15:18:36,822 - INFO - PyMOL initialized successfully.\n",
      "2024-10-04 15:18:36,824 - DEBUG - Created output directory: processed_pdbs\n",
      "2024-10-04 15:18:36,825 - DEBUG - Processing PDB ID: 6sb5, Chain: D\n",
      "2024-10-04 15:18:36,826 - INFO - Fetched PDB ID: 6sb5\n"
     ]
    },
    {
     "name": "stdout",
     "output_type": "stream",
     "text": [
      "\n",
      "Welcome to pymolPy3 -- version 0.1\n",
      "\n",
      " PyMOL(TM) 3.0.4 - Incentive Product\n",
      " Copyright (C) Schrodinger, LLC\n",
      " \n",
      " This Executable Build integrates and extends Open-Source PyMOL.\n",
      " Detected 8 CPU cores.  Enabled multithreaded rendering.\n",
      "PyMOL>fetch 6sb5, async=0\n",
      "TITLE     CryoEM structure of murine perforin-2 ectodomain in a pore form\n",
      " ExecutiveLoad-Detail: Detected mmCIF\n"
     ]
    },
    {
     "name": "stderr",
     "output_type": "stream",
     "text": [
      "2024-10-04 15:18:41,833 - DEBUG - Removed all chains except Chain D for PDB ID: 6sb5\n"
     ]
    },
    {
     "name": "stdout",
     "output_type": "stream",
     "text": [
      " CmdLoad: \"./6sb5.cif\" loaded as \"6sb5\".\n",
      "PyMOL>remove not chain D\n",
      " Remove: eliminated 65070 atoms in model \"6sb5\".\n"
     ]
    },
    {
     "name": "stderr",
     "output_type": "stream",
     "text": [
      "2024-10-04 15:18:46,835 - INFO - Saved Chain D of PDB ID 6sb5 to processed_pdbs/6sb5D.pdb\n"
     ]
    },
    {
     "name": "stdout",
     "output_type": "stream",
     "text": [
      "PyMOL>save processed_pdbs/6sb5D.pdb, chain D\n",
      " Save: wrote \"processed_pdbs/6sb5D.pdb\".\n"
     ]
    },
    {
     "name": "stderr",
     "output_type": "stream",
     "text": [
      "2024-10-04 15:18:51,841 - DEBUG - Deleted PDB object 6sb5 from PyMOL\n"
     ]
    },
    {
     "name": "stdout",
     "output_type": "stream",
     "text": [
      "PyMOL>delete 6sb5\n"
     ]
    },
    {
     "name": "stderr",
     "output_type": "stream",
     "text": [
      "2024-10-04 15:18:56,847 - DEBUG - Processing PDB ID: 6sb4, Chain: C\n",
      "2024-10-04 15:18:56,848 - INFO - Fetched PDB ID: 6sb4\n"
     ]
    },
    {
     "name": "stdout",
     "output_type": "stream",
     "text": [
      "PyMOL>fetch 6sb4, async=0\n"
     ]
    },
    {
     "name": "stderr",
     "output_type": "stream",
     "text": [
      "2024-10-04 15:19:01,852 - DEBUG - Removed all chains except Chain C for PDB ID: 6sb4\n"
     ]
    },
    {
     "name": "stdout",
     "output_type": "stream",
     "text": [
      "PyMOL>remove not chain C\n",
      "TITLE     Crystal structure of murine perforin-2 P2 domain crystal form 2\n",
      " ExecutiveLoad-Detail: Detected mmCIF\n",
      " CmdLoad: \"./6sb4.cif\" loaded as \"6sb4\".\n",
      " Remove: eliminated 11179 atoms in model \"6sb4\".\n"
     ]
    },
    {
     "name": "stderr",
     "output_type": "stream",
     "text": [
      "2024-10-04 15:19:06,856 - INFO - Saved Chain C of PDB ID 6sb4 to processed_pdbs/6sb4C.pdb\n"
     ]
    },
    {
     "name": "stdout",
     "output_type": "stream",
     "text": [
      "PyMOL>save processed_pdbs/6sb4C.pdb, chain C\n",
      " Save: wrote \"processed_pdbs/6sb4C.pdb\".\n"
     ]
    },
    {
     "name": "stderr",
     "output_type": "stream",
     "text": [
      "2024-10-04 15:19:11,857 - DEBUG - Deleted PDB object 6sb4 from PyMOL\n"
     ]
    },
    {
     "name": "stdout",
     "output_type": "stream",
     "text": [
      "PyMOL>delete 6sb4\n"
     ]
    },
    {
     "name": "stderr",
     "output_type": "stream",
     "text": [
      "2024-10-04 15:19:16,860 - DEBUG - Processing PDB ID: 6sb1, Chain: A\n",
      "2024-10-04 15:19:16,861 - INFO - Fetched PDB ID: 6sb1\n"
     ]
    },
    {
     "name": "stdout",
     "output_type": "stream",
     "text": [
      "PyMOL>fetch 6sb1, async=0\n",
      "TITLE     Crystal structure of murine perforin-2 P2 domain crystal form 1\n",
      " ExecutiveLoad-Detail: Detected mmCIF\n",
      " CmdLoad: \"./6sb1.cif\" loaded as \"6sb1\".\n"
     ]
    },
    {
     "name": "stderr",
     "output_type": "stream",
     "text": [
      "2024-10-04 15:19:21,864 - DEBUG - Removed all chains except Chain A for PDB ID: 6sb1\n"
     ]
    },
    {
     "name": "stdout",
     "output_type": "stream",
     "text": [
      "PyMOL>remove not chain A\n",
      " Remove: eliminated 1644 atoms in model \"6sb1\".\n"
     ]
    },
    {
     "name": "stderr",
     "output_type": "stream",
     "text": [
      "2024-10-04 15:19:26,870 - INFO - Saved Chain A of PDB ID 6sb1 to processed_pdbs/6sb1A.pdb\n"
     ]
    },
    {
     "name": "stdout",
     "output_type": "stream",
     "text": [
      "PyMOL>save processed_pdbs/6sb1A.pdb, chain A\n",
      " Save: wrote \"processed_pdbs/6sb1A.pdb\".\n"
     ]
    },
    {
     "name": "stderr",
     "output_type": "stream",
     "text": [
      "2024-10-04 15:19:31,877 - DEBUG - Deleted PDB object 6sb1 from PyMOL\n"
     ]
    },
    {
     "name": "stdout",
     "output_type": "stream",
     "text": [
      "PyMOL>delete 6sb1\n"
     ]
    },
    {
     "name": "stderr",
     "output_type": "stream",
     "text": [
      "2024-10-04 15:19:36,879 - DEBUG - Processing PDB ID: 6u2j, Chain: M\n",
      "2024-10-04 15:19:36,880 - INFO - Fetched PDB ID: 6u2j\n"
     ]
    },
    {
     "name": "stdout",
     "output_type": "stream",
     "text": [
      "PyMOL>fetch 6u2j, async=0\n",
      "TITLE     EM structure of MPEG-1 (L425K, alpha conformation) soluble pre-pore complex\n",
      " ExecutiveLoad-Detail: Detected mmCIF\n",
      " CmdLoad: \"./6u2j.cif\" loaded as \"6u2j\".\n"
     ]
    },
    {
     "name": "stderr",
     "output_type": "stream",
     "text": [
      "2024-10-04 15:19:41,882 - DEBUG - Removed all chains except Chain M for PDB ID: 6u2j\n"
     ]
    },
    {
     "name": "stdout",
     "output_type": "stream",
     "text": [
      "PyMOL>remove not chain M\n",
      " Remove: eliminated 68293 atoms in model \"6u2j\".\n"
     ]
    },
    {
     "name": "stderr",
     "output_type": "stream",
     "text": [
      "2024-10-04 15:19:46,883 - INFO - Saved Chain M of PDB ID 6u2j to processed_pdbs/6u2jM.pdb\n"
     ]
    },
    {
     "name": "stdout",
     "output_type": "stream",
     "text": [
      "PyMOL>save processed_pdbs/6u2jM.pdb, chain M\n",
      " Save: wrote \"processed_pdbs/6u2jM.pdb\".\n"
     ]
    },
    {
     "name": "stderr",
     "output_type": "stream",
     "text": [
      "2024-10-04 15:19:51,888 - DEBUG - Deleted PDB object 6u2j from PyMOL\n"
     ]
    },
    {
     "name": "stdout",
     "output_type": "stream",
     "text": [
      "PyMOL>delete 6u2j\n"
     ]
    },
    {
     "name": "stderr",
     "output_type": "stream",
     "text": [
      "2024-10-04 15:19:56,889 - DEBUG - Processing PDB ID: 6u2k, Chain: B\n",
      "2024-10-04 15:19:56,890 - INFO - Fetched PDB ID: 6u2k\n"
     ]
    },
    {
     "name": "stdout",
     "output_type": "stream",
     "text": [
      "PyMOL>fetch 6u2k, async=0\n",
      "TITLE     EM structure of MPEG-1 (L425K, alpha conformation) soluble pre-pore complex\n",
      " ExecutiveLoad-Detail: Detected mmCIF\n",
      " CmdLoad: \"./6u2k.cif\" loaded as \"6u2k\".\n"
     ]
    },
    {
     "name": "stderr",
     "output_type": "stream",
     "text": [
      "2024-10-04 15:20:01,893 - DEBUG - Removed all chains except Chain B for PDB ID: 6u2k\n"
     ]
    },
    {
     "name": "stdout",
     "output_type": "stream",
     "text": [
      "PyMOL>remove not chain B\n",
      " Remove: eliminated 56 atoms in model \"6u2k\".\n"
     ]
    },
    {
     "name": "stderr",
     "output_type": "stream",
     "text": [
      "2024-10-04 15:20:06,896 - INFO - Saved Chain B of PDB ID 6u2k to processed_pdbs/6u2kB.pdb\n"
     ]
    },
    {
     "name": "stdout",
     "output_type": "stream",
     "text": [
      "PyMOL>save processed_pdbs/6u2kB.pdb, chain B\n",
      " Save: wrote \"processed_pdbs/6u2kB.pdb\".\n"
     ]
    },
    {
     "name": "stderr",
     "output_type": "stream",
     "text": [
      "2024-10-04 15:20:11,902 - DEBUG - Deleted PDB object 6u2k from PyMOL\n"
     ]
    },
    {
     "name": "stdout",
     "output_type": "stream",
     "text": [
      "PyMOL>delete 6u2k\n"
     ]
    },
    {
     "name": "stderr",
     "output_type": "stream",
     "text": [
      "2024-10-04 15:20:16,905 - DEBUG - Processing PDB ID: 6sb3, Chain: A\n",
      "2024-10-04 15:20:16,906 - INFO - Fetched PDB ID: 6sb3\n"
     ]
    },
    {
     "name": "stdout",
     "output_type": "stream",
     "text": [
      "PyMOL>fetch 6sb3, async=0\n",
      "TITLE     CryoEM structure of murine perforin-2 ectodomain in a pre-pore form\n",
      " ExecutiveLoad-Detail: Detected mmCIF\n",
      " CmdLoad: \"./6sb3.cif\" loaded as \"6sb3\".\n"
     ]
    },
    {
     "name": "stderr",
     "output_type": "stream",
     "text": [
      "2024-10-04 15:20:21,910 - DEBUG - Removed all chains except Chain A for PDB ID: 6sb3\n"
     ]
    },
    {
     "name": "stdout",
     "output_type": "stream",
     "text": [
      "PyMOL>remove not chain A\n",
      " Remove: eliminated 71610 atoms in model \"6sb3\".\n"
     ]
    },
    {
     "name": "stderr",
     "output_type": "stream",
     "text": [
      "2024-10-04 15:20:26,913 - INFO - Saved Chain A of PDB ID 6sb3 to processed_pdbs/6sb3A.pdb\n"
     ]
    },
    {
     "name": "stdout",
     "output_type": "stream",
     "text": [
      "PyMOL>save processed_pdbs/6sb3A.pdb, chain A\n",
      " Save: wrote \"processed_pdbs/6sb3A.pdb\".\n"
     ]
    },
    {
     "name": "stderr",
     "output_type": "stream",
     "text": [
      "2024-10-04 15:20:31,915 - DEBUG - Deleted PDB object 6sb3 from PyMOL\n"
     ]
    },
    {
     "name": "stdout",
     "output_type": "stream",
     "text": [
      "PyMOL>delete 6sb3\n"
     ]
    },
    {
     "name": "stderr",
     "output_type": "stream",
     "text": [
      "2024-10-04 15:20:36,921 - DEBUG - Processing PDB ID: 6u23, Chain: A\n",
      "2024-10-04 15:20:36,921 - INFO - Fetched PDB ID: 6u23\n"
     ]
    },
    {
     "name": "stdout",
     "output_type": "stream",
     "text": [
      "PyMOL>fetch 6u23, async=0\n"
     ]
    },
    {
     "name": "stderr",
     "output_type": "stream",
     "text": [
      "2024-10-04 15:20:41,925 - DEBUG - Removed all chains except Chain A for PDB ID: 6u23\n"
     ]
    },
    {
     "name": "stdout",
     "output_type": "stream",
     "text": [
      "PyMOL>remove not chain A\n",
      "TITLE     EM structure of MPEG-1(w.t.) soluble pre-pore\n",
      " ExecutiveLoad-Detail: Detected mmCIF\n",
      " CmdLoad: \"./6u23.cif\" loaded as \"6u23\".\n",
      " Remove: eliminated 69821 atoms in model \"6u23\".\n"
     ]
    },
    {
     "name": "stderr",
     "output_type": "stream",
     "text": [
      "2024-10-04 15:20:46,927 - INFO - Saved Chain A of PDB ID 6u23 to processed_pdbs/6u23A.pdb\n"
     ]
    },
    {
     "name": "stdout",
     "output_type": "stream",
     "text": [
      "PyMOL>save processed_pdbs/6u23A.pdb, chain A\n",
      " Save: wrote \"processed_pdbs/6u23A.pdb\".\n"
     ]
    },
    {
     "name": "stderr",
     "output_type": "stream",
     "text": [
      "2024-10-04 15:20:51,929 - DEBUG - Deleted PDB object 6u23 from PyMOL\n"
     ]
    },
    {
     "name": "stdout",
     "output_type": "stream",
     "text": [
      "PyMOL>delete 6u23\n"
     ]
    },
    {
     "name": "stderr",
     "output_type": "stream",
     "text": [
      "2024-10-04 15:20:56,936 - DEBUG - Processing PDB ID: 6u2w, Chain: B\n",
      "2024-10-04 15:20:56,937 - INFO - Fetched PDB ID: 6u2w\n"
     ]
    },
    {
     "name": "stdout",
     "output_type": "stream",
     "text": [
      "PyMOL>fetch 6u2w, async=0\n"
     ]
    },
    {
     "name": "stderr",
     "output_type": "stream",
     "text": [
      "2024-10-04 15:21:01,939 - DEBUG - Removed all chains except Chain B for PDB ID: 6u2w\n"
     ]
    },
    {
     "name": "stdout",
     "output_type": "stream",
     "text": [
      "PyMOL>remove not chain B\n"
     ]
    },
    {
     "name": "stderr",
     "output_type": "stream",
     "text": [
      "2024-10-04 15:21:06,941 - INFO - Saved Chain B of PDB ID 6u2w to processed_pdbs/6u2wB.pdb\n"
     ]
    },
    {
     "name": "stdout",
     "output_type": "stream",
     "text": [
      "PyMOL>save processed_pdbs/6u2wB.pdb, chain B\n"
     ]
    },
    {
     "name": "stderr",
     "output_type": "stream",
     "text": [
      "2024-10-04 15:21:11,945 - DEBUG - Deleted PDB object 6u2w from PyMOL\n"
     ]
    },
    {
     "name": "stdout",
     "output_type": "stream",
     "text": [
      "PyMOL>delete 6u2w\n",
      "TITLE     EM structure of MPEG-1(L425K) pre-pore complex bound to liposome\n",
      " ExecutiveLoad-Detail: Detected mmCIF\n",
      " CmdLoad: \"./6u2w.cif\" loaded as \"6u2w\".\n",
      " Remove: eliminated 65696 atoms in model \"6u2w\".\n",
      " Save: wrote \"processed_pdbs/6u2wB.pdb\".\n"
     ]
    },
    {
     "name": "stderr",
     "output_type": "stream",
     "text": [
      "2024-10-04 15:21:16,948 - DEBUG - Processing PDB ID: 7nyd, Chain: D\n",
      "2024-10-04 15:21:16,949 - INFO - Fetched PDB ID: 7nyd\n"
     ]
    },
    {
     "name": "stdout",
     "output_type": "stream",
     "text": [
      "PyMOL>fetch 7nyd, async=0\n",
      "TITLE     cryoEM structure of 2C9-sMAC\n",
      " ExecutiveLoad-Detail: Detected mmCIF\n",
      " CmdLoad: \"./7nyd.cif\" loaded as \"7nyd\".\n"
     ]
    },
    {
     "name": "stderr",
     "output_type": "stream",
     "text": [
      "2024-10-04 15:21:21,954 - DEBUG - Removed all chains except Chain D for PDB ID: 7nyd\n"
     ]
    },
    {
     "name": "stdout",
     "output_type": "stream",
     "text": [
      "PyMOL>remove not chain D\n",
      " Remove: eliminated 35244 atoms in model \"7nyd\".\n"
     ]
    },
    {
     "name": "stderr",
     "output_type": "stream",
     "text": [
      "2024-10-04 15:21:26,959 - INFO - Saved Chain D of PDB ID 7nyd to processed_pdbs/7nydD.pdb\n"
     ]
    },
    {
     "name": "stdout",
     "output_type": "stream",
     "text": [
      "PyMOL>save processed_pdbs/7nydD.pdb, chain D\n",
      " Save: wrote \"processed_pdbs/7nydD.pdb\".\n"
     ]
    },
    {
     "name": "stderr",
     "output_type": "stream",
     "text": [
      "2024-10-04 15:21:31,968 - DEBUG - Deleted PDB object 7nyd from PyMOL\n"
     ]
    },
    {
     "name": "stdout",
     "output_type": "stream",
     "text": [
      "PyMOL>delete 7nyd\n"
     ]
    },
    {
     "name": "stderr",
     "output_type": "stream",
     "text": [
      "2024-10-04 15:21:36,973 - DEBUG - Processing PDB ID: 7nyc, Chain: D\n",
      "2024-10-04 15:21:36,974 - INFO - Fetched PDB ID: 7nyc\n"
     ]
    },
    {
     "name": "stdout",
     "output_type": "stream",
     "text": [
      "PyMOL>fetch 7nyc, async=0\n",
      "TITLE     cryoEM structure of 3C9-sMAC\n",
      " ExecutiveLoad-Detail: Detected mmCIF\n",
      " CmdLoad: \"./7nyc.cif\" loaded as \"7nyc\".\n"
     ]
    },
    {
     "name": "stderr",
     "output_type": "stream",
     "text": [
      "2024-10-04 15:21:41,975 - DEBUG - Removed all chains except Chain D for PDB ID: 7nyc\n"
     ]
    },
    {
     "name": "stdout",
     "output_type": "stream",
     "text": [
      "PyMOL>remove not chain D\n",
      " Remove: eliminated 38287 atoms in model \"7nyc\".\n"
     ]
    },
    {
     "name": "stderr",
     "output_type": "stream",
     "text": [
      "2024-10-04 15:21:46,982 - INFO - Saved Chain D of PDB ID 7nyc to processed_pdbs/7nycD.pdb\n"
     ]
    },
    {
     "name": "stdout",
     "output_type": "stream",
     "text": [
      "PyMOL>save processed_pdbs/7nycD.pdb, chain D\n",
      " Save: wrote \"processed_pdbs/7nycD.pdb\".\n"
     ]
    },
    {
     "name": "stderr",
     "output_type": "stream",
     "text": [
      "2024-10-04 15:21:51,984 - DEBUG - Deleted PDB object 7nyc from PyMOL\n"
     ]
    },
    {
     "name": "stdout",
     "output_type": "stream",
     "text": [
      "PyMOL>delete 7nyc\n"
     ]
    },
    {
     "name": "stderr",
     "output_type": "stream",
     "text": [
      "2024-10-04 15:21:56,988 - DEBUG - Processing PDB ID: 6h04, Chain: W\n",
      "2024-10-04 15:21:56,989 - INFO - Fetched PDB ID: 6h04\n"
     ]
    },
    {
     "name": "stdout",
     "output_type": "stream",
     "text": [
      "PyMOL>fetch 6h04, async=0\n"
     ]
    },
    {
     "name": "stderr",
     "output_type": "stream",
     "text": [
      "2024-10-04 15:22:01,995 - DEBUG - Removed all chains except Chain W for PDB ID: 6h04\n"
     ]
    },
    {
     "name": "stdout",
     "output_type": "stream",
     "text": [
      "PyMOL>remove not chain W\n",
      "TITLE     Closed conformation of the Membrane Attack Complex\n",
      " ExecutiveLoad-Detail: Detected mmCIF\n"
     ]
    },
    {
     "name": "stderr",
     "output_type": "stream",
     "text": [
      "2024-10-04 15:22:07,001 - INFO - Saved Chain W of PDB ID 6h04 to processed_pdbs/6h04W.pdb\n"
     ]
    },
    {
     "name": "stdout",
     "output_type": "stream",
     "text": [
      " CmdLoad: \"./6h04.cif\" loaded as \"6h04\".\n",
      "PyMOL>save processed_pdbs/6h04W.pdb, chain W\n",
      " Remove: eliminated 94826 atoms in model \"6h04\".\n",
      " Save: wrote \"processed_pdbs/6h04W.pdb\".\n"
     ]
    },
    {
     "name": "stderr",
     "output_type": "stream",
     "text": [
      "2024-10-04 15:22:12,007 - DEBUG - Deleted PDB object 6h04 from PyMOL\n"
     ]
    },
    {
     "name": "stdout",
     "output_type": "stream",
     "text": [
      "PyMOL>delete 6h04\n"
     ]
    },
    {
     "name": "stderr",
     "output_type": "stream",
     "text": [
      "2024-10-04 15:22:17,009 - DEBUG - Processing PDB ID: 6dlw, Chain: M\n",
      "2024-10-04 15:22:17,010 - INFO - Fetched PDB ID: 6dlw\n"
     ]
    },
    {
     "name": "stdout",
     "output_type": "stream",
     "text": [
      "PyMOL>fetch 6dlw, async=0\n",
      "TITLE     Complement component polyC9\n",
      " ExecutiveLoad-Detail: Detected mmCIF\n",
      " CmdLoad: \"./6dlw.cif\" loaded as \"6dlw\".\n"
     ]
    },
    {
     "name": "stderr",
     "output_type": "stream",
     "text": [
      "2024-10-04 15:22:22,016 - DEBUG - Removed all chains except Chain M for PDB ID: 6dlw\n"
     ]
    },
    {
     "name": "stdout",
     "output_type": "stream",
     "text": [
      "PyMOL>remove not chain M\n",
      " Remove: eliminated 78393 atoms in model \"6dlw\".\n"
     ]
    },
    {
     "name": "stderr",
     "output_type": "stream",
     "text": [
      "2024-10-04 15:22:27,019 - INFO - Saved Chain M of PDB ID 6dlw to processed_pdbs/6dlwM.pdb\n"
     ]
    },
    {
     "name": "stdout",
     "output_type": "stream",
     "text": [
      "PyMOL>save processed_pdbs/6dlwM.pdb, chain M\n",
      " Save: wrote \"processed_pdbs/6dlwM.pdb\".\n"
     ]
    },
    {
     "name": "stderr",
     "output_type": "stream",
     "text": [
      "2024-10-04 15:22:32,025 - DEBUG - Deleted PDB object 6dlw from PyMOL\n"
     ]
    },
    {
     "name": "stdout",
     "output_type": "stream",
     "text": [
      "PyMOL>delete 6dlw\n"
     ]
    },
    {
     "name": "stderr",
     "output_type": "stream",
     "text": [
      "2024-10-04 15:22:37,029 - DEBUG - Processing PDB ID: 7pag, Chain: A\n",
      "2024-10-04 15:22:37,031 - INFO - Fetched PDB ID: 7pag\n"
     ]
    },
    {
     "name": "stdout",
     "output_type": "stream",
     "text": [
      "PyMOL>fetch 7pag, async=0\n",
      "TITLE     The pore conformation of lymphocyte perforin\n",
      " ExecutiveLoad-Detail: Detected mmCIF\n",
      " CmdLoad: \"./7pag.cif\" loaded as \"7pag\".\n"
     ]
    },
    {
     "name": "stderr",
     "output_type": "stream",
     "text": [
      "2024-10-04 15:22:42,032 - DEBUG - Removed all chains except Chain A for PDB ID: 7pag\n"
     ]
    },
    {
     "name": "stdout",
     "output_type": "stream",
     "text": [
      "PyMOL>remove not chain A\n"
     ]
    },
    {
     "name": "stderr",
     "output_type": "stream",
     "text": [
      "2024-10-04 15:22:45,013 - INFO - Saved Chain A of PDB ID 7pag to processed_pdbs/7pagA.pdb\n"
     ]
    },
    {
     "name": "stdout",
     "output_type": "stream",
     "text": [
      "PyMOL>save processed_pdbs/7pagA.pdb, chain A\n",
      " Save: wrote \"processed_pdbs/7pagA.pdb\".\n"
     ]
    },
    {
     "name": "stderr",
     "output_type": "stream",
     "text": [
      "2024-10-04 15:22:50,016 - DEBUG - Deleted PDB object 7pag from PyMOL\n"
     ]
    },
    {
     "name": "stdout",
     "output_type": "stream",
     "text": [
      "PyMOL>delete 7pag\n"
     ]
    },
    {
     "name": "stderr",
     "output_type": "stream",
     "text": [
      "2024-10-04 15:22:55,019 - DEBUG - Processing PDB ID: 3nsj, Chain: A\n",
      "2024-10-04 15:22:55,020 - INFO - Fetched PDB ID: 3nsj\n"
     ]
    },
    {
     "name": "stdout",
     "output_type": "stream",
     "text": [
      "PyMOL>fetch 3nsj, async=0\n",
      "TITLE     The X-ray crystal structure of lymphocyte perforin\n",
      " ExecutiveLoad-Detail: Detected mmCIF\n",
      " CmdLoad: \"./3nsj.cif\" loaded as \"3nsj\".\n"
     ]
    },
    {
     "name": "stderr",
     "output_type": "stream",
     "text": [
      "2024-10-04 15:23:00,023 - DEBUG - Removed all chains except Chain A for PDB ID: 3nsj\n"
     ]
    },
    {
     "name": "stdout",
     "output_type": "stream",
     "text": [
      "PyMOL>remove not chain A\n"
     ]
    },
    {
     "name": "stderr",
     "output_type": "stream",
     "text": [
      "2024-10-04 15:23:05,026 - INFO - Saved Chain A of PDB ID 3nsj to processed_pdbs/3nsjA.pdb\n"
     ]
    },
    {
     "name": "stdout",
     "output_type": "stream",
     "text": [
      "PyMOL>save processed_pdbs/3nsjA.pdb, chain A\n",
      " Save: wrote \"processed_pdbs/3nsjA.pdb\".\n"
     ]
    },
    {
     "name": "stderr",
     "output_type": "stream",
     "text": [
      "2024-10-04 15:23:10,028 - DEBUG - Deleted PDB object 3nsj from PyMOL\n"
     ]
    },
    {
     "name": "stdout",
     "output_type": "stream",
     "text": [
      "PyMOL>delete 3nsj\n"
     ]
    },
    {
     "name": "stderr",
     "output_type": "stream",
     "text": [
      "2024-10-04 15:23:15,030 - DEBUG - Processing PDB ID: 2qqh, Chain: A\n",
      "2024-10-04 15:23:15,045 - INFO - Fetched PDB ID: 2qqh\n"
     ]
    },
    {
     "name": "stdout",
     "output_type": "stream",
     "text": [
      "PyMOL>fetch 2qqh, async=0\n",
      "TITLE     Structure of C8a-MACPF reveals mechanism of membrane attack in complement immune defense\n",
      " ExecutiveLoad-Detail: Detected mmCIF\n",
      " CmdLoad: \"./2qqh.cif\" loaded as \"2qqh\".\n"
     ]
    },
    {
     "name": "stderr",
     "output_type": "stream",
     "text": [
      "2024-10-04 15:23:20,055 - DEBUG - Removed all chains except Chain A for PDB ID: 2qqh\n"
     ]
    },
    {
     "name": "stdout",
     "output_type": "stream",
     "text": [
      "PyMOL>remove not chain A\n"
     ]
    },
    {
     "name": "stderr",
     "output_type": "stream",
     "text": [
      "2024-10-04 15:23:25,057 - INFO - Saved Chain A of PDB ID 2qqh to processed_pdbs/2qqhA.pdb\n"
     ]
    },
    {
     "name": "stdout",
     "output_type": "stream",
     "text": [
      "PyMOL>save processed_pdbs/2qqhA.pdb, chain A\n",
      " Save: wrote \"processed_pdbs/2qqhA.pdb\".\n"
     ]
    },
    {
     "name": "stderr",
     "output_type": "stream",
     "text": [
      "2024-10-04 15:23:30,060 - DEBUG - Deleted PDB object 2qqh from PyMOL\n"
     ]
    },
    {
     "name": "stdout",
     "output_type": "stream",
     "text": [
      "PyMOL>delete 2qqh\n"
     ]
    },
    {
     "name": "stderr",
     "output_type": "stream",
     "text": [
      "2024-10-04 15:23:35,061 - DEBUG - Processing PDB ID: 2rd7, Chain: A\n",
      "2024-10-04 15:23:35,061 - INFO - Fetched PDB ID: 2rd7\n"
     ]
    },
    {
     "name": "stdout",
     "output_type": "stream",
     "text": [
      "PyMOL>fetch 2rd7, async=0\n",
      "TITLE     Human Complement Membrane Attack Proteins Share a Common Fold with Bacterial Cytolysins\n",
      " ExecutiveLoad-Detail: Detected mmCIF\n",
      " CmdLoad: \"./2rd7.cif\" loaded as \"2rd7\".\n"
     ]
    },
    {
     "name": "stderr",
     "output_type": "stream",
     "text": [
      "2024-10-04 15:23:40,068 - DEBUG - Removed all chains except Chain A for PDB ID: 2rd7\n"
     ]
    },
    {
     "name": "stdout",
     "output_type": "stream",
     "text": [
      "PyMOL>remove not chain A\n",
      " Remove: eliminated 1274 atoms in model \"2rd7\".\n"
     ]
    },
    {
     "name": "stderr",
     "output_type": "stream",
     "text": [
      "2024-10-04 15:23:45,073 - INFO - Saved Chain A of PDB ID 2rd7 to processed_pdbs/2rd7A.pdb\n"
     ]
    },
    {
     "name": "stdout",
     "output_type": "stream",
     "text": [
      "PyMOL>save processed_pdbs/2rd7A.pdb, chain A\n",
      " Save: wrote \"processed_pdbs/2rd7A.pdb\".\n"
     ]
    },
    {
     "name": "stderr",
     "output_type": "stream",
     "text": [
      "2024-10-04 15:23:50,075 - DEBUG - Deleted PDB object 2rd7 from PyMOL\n"
     ]
    },
    {
     "name": "stdout",
     "output_type": "stream",
     "text": [
      "PyMOL>delete 2rd7\n"
     ]
    },
    {
     "name": "stderr",
     "output_type": "stream",
     "text": [
      "2024-10-04 15:23:55,081 - DEBUG - Processing PDB ID: 3ojy, Chain: A\n",
      "2024-10-04 15:23:55,082 - INFO - Fetched PDB ID: 3ojy\n"
     ]
    },
    {
     "name": "stdout",
     "output_type": "stream",
     "text": [
      "PyMOL>fetch 3ojy, async=0\n",
      "TITLE     Crystal Structure of Human Complement Component C8\n",
      " ExecutiveLoad-Detail: Detected mmCIF\n",
      " CmdLoad: \"./3ojy.cif\" loaded as \"3ojy\".\n"
     ]
    },
    {
     "name": "stderr",
     "output_type": "stream",
     "text": [
      "2024-10-04 15:24:00,087 - DEBUG - Removed all chains except Chain A for PDB ID: 3ojy\n"
     ]
    },
    {
     "name": "stdout",
     "output_type": "stream",
     "text": [
      "PyMOL>remove not chain A\n",
      " Remove: eliminated 5440 atoms in model \"3ojy\".\n"
     ]
    },
    {
     "name": "stderr",
     "output_type": "stream",
     "text": [
      "2024-10-04 15:24:05,093 - INFO - Saved Chain A of PDB ID 3ojy to processed_pdbs/3ojyA.pdb\n"
     ]
    },
    {
     "name": "stdout",
     "output_type": "stream",
     "text": [
      "PyMOL>save processed_pdbs/3ojyA.pdb, chain A\n",
      " Save: wrote \"processed_pdbs/3ojyA.pdb\".\n"
     ]
    },
    {
     "name": "stderr",
     "output_type": "stream",
     "text": [
      "2024-10-04 15:24:10,098 - DEBUG - Deleted PDB object 3ojy from PyMOL\n"
     ]
    },
    {
     "name": "stdout",
     "output_type": "stream",
     "text": [
      "PyMOL>delete 3ojy\n"
     ]
    },
    {
     "name": "stderr",
     "output_type": "stream",
     "text": [
      "2024-10-04 15:24:15,101 - DEBUG - Processing PDB ID: 5j67, Chain: C\n",
      "2024-10-04 15:24:15,103 - INFO - Fetched PDB ID: 5j67\n"
     ]
    },
    {
     "name": "stdout",
     "output_type": "stream",
     "text": [
      "PyMOL>fetch 5j67, async=0\n",
      "TITLE     Structure of Astrotactin-2, a conserved vertebrate-specific and perforin-like membrane protein involved in neuronal development\n",
      " ExecutiveLoad-Detail: Detected mmCIF\n",
      " CmdLoad: \"./5j67.cif\" loaded as \"5j67\".\n"
     ]
    },
    {
     "name": "stderr",
     "output_type": "stream",
     "text": [
      "2024-10-04 15:24:20,106 - DEBUG - Removed all chains except Chain C for PDB ID: 5j67\n"
     ]
    },
    {
     "name": "stdout",
     "output_type": "stream",
     "text": [
      "PyMOL>remove not chain C\n",
      " Remove: eliminated 13962 atoms in model \"5j67\".\n"
     ]
    },
    {
     "name": "stderr",
     "output_type": "stream",
     "text": [
      "2024-10-04 15:24:25,107 - INFO - Saved Chain C of PDB ID 5j67 to processed_pdbs/5j67C.pdb\n"
     ]
    },
    {
     "name": "stdout",
     "output_type": "stream",
     "text": [
      "PyMOL>save processed_pdbs/5j67C.pdb, chain C\n",
      " Save: wrote \"processed_pdbs/5j67C.pdb\".\n"
     ]
    },
    {
     "name": "stderr",
     "output_type": "stream",
     "text": [
      "2024-10-04 15:24:30,110 - DEBUG - Deleted PDB object 5j67 from PyMOL\n"
     ]
    },
    {
     "name": "stdout",
     "output_type": "stream",
     "text": [
      "PyMOL>delete 5j67\n"
     ]
    },
    {
     "name": "stderr",
     "output_type": "stream",
     "text": [
      "2024-10-04 15:24:35,111 - DEBUG - Processing PDB ID: 5j69, Chain: B\n",
      "2024-10-04 15:24:35,112 - INFO - Fetched PDB ID: 5j69\n"
     ]
    },
    {
     "name": "stdout",
     "output_type": "stream",
     "text": [
      "PyMOL>fetch 5j69, async=0\n",
      "TITLE     Structure of Astrotactin-2, a conserved vertebrate-specific and perforin-like membrane protein involved in neuronal development\n",
      " ExecutiveLoad-Detail: Detected mmCIF\n",
      " CmdLoad: \"./5j69.cif\" loaded as \"5j69\".\n"
     ]
    },
    {
     "name": "stderr",
     "output_type": "stream",
     "text": [
      "2024-10-04 15:24:40,116 - DEBUG - Removed all chains except Chain B for PDB ID: 5j69\n"
     ]
    },
    {
     "name": "stdout",
     "output_type": "stream",
     "text": [
      "PyMOL>remove not chain B\n",
      " Remove: eliminated 2042 atoms in model \"5j69\".\n"
     ]
    },
    {
     "name": "stderr",
     "output_type": "stream",
     "text": [
      "2024-10-04 15:24:45,118 - INFO - Saved Chain B of PDB ID 5j69 to processed_pdbs/5j69B.pdb\n"
     ]
    },
    {
     "name": "stdout",
     "output_type": "stream",
     "text": [
      "PyMOL>save processed_pdbs/5j69B.pdb, chain B\n",
      " Save: wrote \"processed_pdbs/5j69B.pdb\".\n"
     ]
    },
    {
     "name": "stderr",
     "output_type": "stream",
     "text": [
      "2024-10-04 15:24:50,121 - DEBUG - Deleted PDB object 5j69 from PyMOL\n"
     ]
    },
    {
     "name": "stdout",
     "output_type": "stream",
     "text": [
      "PyMOL>delete 5j69\n"
     ]
    },
    {
     "name": "stderr",
     "output_type": "stream",
     "text": [
      "2024-10-04 15:24:55,122 - DEBUG - Processing PDB ID: 5j68, Chain: A\n",
      "2024-10-04 15:24:55,123 - INFO - Fetched PDB ID: 5j68\n"
     ]
    },
    {
     "name": "stdout",
     "output_type": "stream",
     "text": [
      "PyMOL>fetch 5j68, async=0\n",
      "TITLE     Structure of Astrotactin-2, a conserved vertebrate-specific and perforin-like membrane protein involved in neuronal development\n",
      " ExecutiveLoad-Detail: Detected mmCIF\n",
      " CmdLoad: \"./5j68.cif\" loaded as \"5j68\".\n"
     ]
    },
    {
     "name": "stderr",
     "output_type": "stream",
     "text": [
      "2024-10-04 15:25:00,125 - DEBUG - Removed all chains except Chain A for PDB ID: 5j68\n"
     ]
    },
    {
     "name": "stdout",
     "output_type": "stream",
     "text": [
      "PyMOL>remove not chain A\n",
      " Remove: eliminated 116 atoms in model \"5j68\".\n"
     ]
    },
    {
     "name": "stderr",
     "output_type": "stream",
     "text": [
      "2024-10-04 15:25:05,129 - INFO - Saved Chain A of PDB ID 5j68 to processed_pdbs/5j68A.pdb\n"
     ]
    },
    {
     "name": "stdout",
     "output_type": "stream",
     "text": [
      "PyMOL>save processed_pdbs/5j68A.pdb, chain A\n",
      " Save: wrote \"processed_pdbs/5j68A.pdb\".\n"
     ]
    },
    {
     "name": "stderr",
     "output_type": "stream",
     "text": [
      "2024-10-04 15:25:10,134 - DEBUG - Deleted PDB object 5j68 from PyMOL\n"
     ]
    },
    {
     "name": "stdout",
     "output_type": "stream",
     "text": [
      "PyMOL>delete 5j68\n"
     ]
    },
    {
     "name": "stderr",
     "output_type": "stream",
     "text": [
      "2024-10-04 15:25:15,139 - DEBUG - Processing PDB ID: 6fbm, Chain: A\n",
      "2024-10-04 15:25:15,140 - INFO - Fetched PDB ID: 6fbm\n"
     ]
    },
    {
     "name": "stdout",
     "output_type": "stream",
     "text": [
      "PyMOL>fetch 6fbm, async=0\n",
      "TITLE     Crystal structure of GNIP1Aa from Chromobacterium piscinae\n",
      " ExecutiveLoad-Detail: Detected mmCIF\n",
      " CmdLoad: \"./6fbm.cif\" loaded as \"6fbm\".\n"
     ]
    },
    {
     "name": "stderr",
     "output_type": "stream",
     "text": [
      "2024-10-04 15:25:20,141 - DEBUG - Removed all chains except Chain A for PDB ID: 6fbm\n"
     ]
    },
    {
     "name": "stdout",
     "output_type": "stream",
     "text": [
      "PyMOL>remove not chain A\n",
      " Remove: eliminated 12479 atoms in model \"6fbm\".\n"
     ]
    },
    {
     "name": "stderr",
     "output_type": "stream",
     "text": [
      "2024-10-04 15:25:25,143 - INFO - Saved Chain A of PDB ID 6fbm to processed_pdbs/6fbmA.pdb\n"
     ]
    },
    {
     "name": "stdout",
     "output_type": "stream",
     "text": [
      "PyMOL>save processed_pdbs/6fbmA.pdb, chain A\n",
      " Save: wrote \"processed_pdbs/6fbmA.pdb\".\n"
     ]
    },
    {
     "name": "stderr",
     "output_type": "stream",
     "text": [
      "2024-10-04 15:25:30,145 - DEBUG - Deleted PDB object 6fbm from PyMOL\n"
     ]
    },
    {
     "name": "stdout",
     "output_type": "stream",
     "text": [
      "PyMOL>delete 6fbm\n"
     ]
    },
    {
     "name": "stderr",
     "output_type": "stream",
     "text": [
      "2024-10-04 15:25:35,150 - DEBUG - Processing PDB ID: 3t5o, Chain: A\n",
      "2024-10-04 15:25:35,151 - INFO - Fetched PDB ID: 3t5o\n"
     ]
    },
    {
     "name": "stdout",
     "output_type": "stream",
     "text": [
      "PyMOL>fetch 3t5o, async=0\n",
      "TITLE     Crystal Structure of human Complement Component C6\n",
      " ExecutiveLoad-Detail: Detected mmCIF\n",
      " CmdLoad: \"./3t5o.cif\" loaded as \"3t5o\".\n"
     ]
    },
    {
     "name": "stderr",
     "output_type": "stream",
     "text": [
      "2024-10-04 15:25:40,154 - DEBUG - Removed all chains except Chain A for PDB ID: 3t5o\n"
     ]
    },
    {
     "name": "stdout",
     "output_type": "stream",
     "text": [
      "PyMOL>remove not chain A\n",
      " Remove: eliminated 49 atoms in model \"3t5o\".\n"
     ]
    },
    {
     "name": "stderr",
     "output_type": "stream",
     "text": [
      "2024-10-04 15:25:45,156 - INFO - Saved Chain A of PDB ID 3t5o to processed_pdbs/3t5oA.pdb\n"
     ]
    },
    {
     "name": "stdout",
     "output_type": "stream",
     "text": [
      "PyMOL>save processed_pdbs/3t5oA.pdb, chain A\n",
      " Save: wrote \"processed_pdbs/3t5oA.pdb\".\n"
     ]
    },
    {
     "name": "stderr",
     "output_type": "stream",
     "text": [
      "2024-10-04 15:25:50,159 - DEBUG - Deleted PDB object 3t5o from PyMOL\n"
     ]
    },
    {
     "name": "stdout",
     "output_type": "stream",
     "text": [
      "PyMOL>delete 3t5o\n"
     ]
    },
    {
     "name": "stderr",
     "output_type": "stream",
     "text": [
      "2024-10-04 15:25:55,166 - DEBUG - Processing PDB ID: 5ouq, Chain: D\n",
      "2024-10-04 15:25:55,167 - INFO - Fetched PDB ID: 5ouq\n"
     ]
    },
    {
     "name": "stdout",
     "output_type": "stream",
     "text": [
      "PyMOL>fetch 5ouq, async=0\n"
     ]
    },
    {
     "name": "stderr",
     "output_type": "stream",
     "text": [
      "2024-10-04 15:26:00,171 - DEBUG - Removed all chains except Chain D for PDB ID: 5ouq\n"
     ]
    },
    {
     "name": "stdout",
     "output_type": "stream",
     "text": [
      "TITLE     Structure of TgPLP1 MACPF domain\n",
      " ExecutiveLoad-Detail: Detected mmCIF\n",
      " CmdLoad: \"./5ouq.cif\" loaded as \"5ouq\".\n",
      "PyMOL>remove not chain D\n",
      " Remove: eliminated 11190 atoms in model \"5ouq\".\n"
     ]
    },
    {
     "name": "stderr",
     "output_type": "stream",
     "text": [
      "2024-10-04 15:26:05,174 - INFO - Saved Chain D of PDB ID 5ouq to processed_pdbs/5ouqD.pdb\n"
     ]
    },
    {
     "name": "stdout",
     "output_type": "stream",
     "text": [
      "PyMOL>save processed_pdbs/5ouqD.pdb, chain D\n",
      " Save: wrote \"processed_pdbs/5ouqD.pdb\".\n"
     ]
    },
    {
     "name": "stderr",
     "output_type": "stream",
     "text": [
      "2024-10-04 15:26:10,176 - DEBUG - Deleted PDB object 5ouq from PyMOL\n"
     ]
    },
    {
     "name": "stdout",
     "output_type": "stream",
     "text": [
      "PyMOL>delete 5ouq\n"
     ]
    },
    {
     "name": "stderr",
     "output_type": "stream",
     "text": [
      "2024-10-04 15:26:15,178 - DEBUG - Processing PDB ID: 5oup, Chain: A\n",
      "2024-10-04 15:26:15,179 - INFO - Fetched PDB ID: 5oup\n"
     ]
    },
    {
     "name": "stdout",
     "output_type": "stream",
     "text": [
      "PyMOL>fetch 5oup, async=0\n",
      "TITLE     Structure of TgPLP1 MACPF domain\n",
      " ExecutiveLoad-Detail: Detected mmCIF\n",
      " CmdLoad: \"./5oup.cif\" loaded as \"5oup\".\n"
     ]
    },
    {
     "name": "stderr",
     "output_type": "stream",
     "text": [
      "2024-10-04 15:26:20,183 - DEBUG - Removed all chains except Chain A for PDB ID: 5oup\n"
     ]
    },
    {
     "name": "stdout",
     "output_type": "stream",
     "text": [
      "PyMOL>remove not chain A\n"
     ]
    },
    {
     "name": "stderr",
     "output_type": "stream",
     "text": [
      "2024-10-04 15:26:25,184 - INFO - Saved Chain A of PDB ID 5oup to processed_pdbs/5oupA.pdb\n"
     ]
    },
    {
     "name": "stdout",
     "output_type": "stream",
     "text": [
      "PyMOL>save processed_pdbs/5oupA.pdb, chain A\n",
      " Save: wrote \"processed_pdbs/5oupA.pdb\".\n"
     ]
    },
    {
     "name": "stderr",
     "output_type": "stream",
     "text": [
      "2024-10-04 15:26:30,185 - DEBUG - Deleted PDB object 5oup from PyMOL\n"
     ]
    },
    {
     "name": "stdout",
     "output_type": "stream",
     "text": [
      "PyMOL>delete 5oup\n"
     ]
    },
    {
     "name": "stderr",
     "output_type": "stream",
     "text": [
      "2024-10-04 15:26:35,190 - DEBUG - Processing PDB ID: 5own, Chain: B\n",
      "2024-10-04 15:26:35,191 - INFO - Fetched PDB ID: 5own\n"
     ]
    },
    {
     "name": "stdout",
     "output_type": "stream",
     "text": [
      "PyMOL>fetch 5own, async=0\n",
      "TITLE     Structure of TgPLP1 MACPF domain\n",
      " ExecutiveLoad-Detail: Detected mmCIF\n",
      " CmdLoad: \"./5own.cif\" loaded as \"5own\".\n"
     ]
    },
    {
     "name": "stderr",
     "output_type": "stream",
     "text": [
      "2024-10-04 15:26:40,197 - DEBUG - Removed all chains except Chain B for PDB ID: 5own\n"
     ]
    },
    {
     "name": "stdout",
     "output_type": "stream",
     "text": [
      "PyMOL>remove not chain B\n",
      " Remove: eliminated 2366 atoms in model \"5own\".\n"
     ]
    },
    {
     "name": "stderr",
     "output_type": "stream",
     "text": [
      "2024-10-04 15:26:45,198 - INFO - Saved Chain B of PDB ID 5own to processed_pdbs/5ownB.pdb\n"
     ]
    },
    {
     "name": "stdout",
     "output_type": "stream",
     "text": [
      "PyMOL>save processed_pdbs/5ownB.pdb, chain B\n",
      " Save: wrote \"processed_pdbs/5ownB.pdb\".\n"
     ]
    },
    {
     "name": "stderr",
     "output_type": "stream",
     "text": [
      "2024-10-04 15:26:50,202 - DEBUG - Deleted PDB object 5own from PyMOL\n"
     ]
    },
    {
     "name": "stdout",
     "output_type": "stream",
     "text": [
      "PyMOL>delete 5own\n"
     ]
    },
    {
     "name": "stderr",
     "output_type": "stream",
     "text": [
      "2024-10-04 15:26:55,206 - DEBUG - Processing PDB ID: 4e0s, Chain: B\n",
      "2024-10-04 15:26:55,207 - INFO - Fetched PDB ID: 4e0s\n"
     ]
    },
    {
     "name": "stdout",
     "output_type": "stream",
     "text": [
      "PyMOL>fetch 4e0s, async=0\n",
      "TITLE     Crystal Structure of C5b-6\n",
      " ExecutiveLoad-Detail: Detected mmCIF\n",
      " CmdLoad: \"./4e0s.cif\" loaded as \"4e0s\".\n"
     ]
    },
    {
     "name": "stderr",
     "output_type": "stream",
     "text": [
      "2024-10-04 15:27:00,211 - DEBUG - Removed all chains except Chain B for PDB ID: 4e0s\n"
     ]
    },
    {
     "name": "stdout",
     "output_type": "stream",
     "text": [
      "PyMOL>remove not chain B\n",
      " Remove: eliminated 12508 atoms in model \"4e0s\".\n"
     ]
    },
    {
     "name": "stderr",
     "output_type": "stream",
     "text": [
      "2024-10-04 15:27:05,215 - INFO - Saved Chain B of PDB ID 4e0s to processed_pdbs/4e0sB.pdb\n"
     ]
    },
    {
     "name": "stdout",
     "output_type": "stream",
     "text": [
      "PyMOL>save processed_pdbs/4e0sB.pdb, chain B\n",
      " Save: wrote \"processed_pdbs/4e0sB.pdb\".\n"
     ]
    },
    {
     "name": "stderr",
     "output_type": "stream",
     "text": [
      "2024-10-04 15:27:10,216 - DEBUG - Deleted PDB object 4e0s from PyMOL\n"
     ]
    },
    {
     "name": "stdout",
     "output_type": "stream",
     "text": [
      "PyMOL>delete 4e0s\n"
     ]
    },
    {
     "name": "stderr",
     "output_type": "stream",
     "text": [
      "2024-10-04 15:27:15,222 - DEBUG - Processing PDB ID: 2qp2, Chain: A\n",
      "2024-10-04 15:27:15,223 - INFO - Fetched PDB ID: 2qp2\n"
     ]
    },
    {
     "name": "stdout",
     "output_type": "stream",
     "text": [
      "PyMOL>fetch 2qp2, async=0\n",
      "TITLE     Structure of a MACPF/perforin-like protein\n",
      " ExecutiveLoad-Detail: Detected mmCIF\n",
      " CmdLoad: \"./2qp2.cif\" loaded as \"2qp2\".\n"
     ]
    },
    {
     "name": "stderr",
     "output_type": "stream",
     "text": [
      "2024-10-04 15:27:20,228 - DEBUG - Removed all chains except Chain A for PDB ID: 2qp2\n"
     ]
    },
    {
     "name": "stdout",
     "output_type": "stream",
     "text": [
      "PyMOL>remove not chain A\n"
     ]
    },
    {
     "name": "stderr",
     "output_type": "stream",
     "text": [
      "2024-10-04 15:27:25,231 - INFO - Saved Chain A of PDB ID 2qp2 to processed_pdbs/2qp2A.pdb\n"
     ]
    },
    {
     "name": "stdout",
     "output_type": "stream",
     "text": [
      "PyMOL>save processed_pdbs/2qp2A.pdb, chain A\n",
      " Save: wrote \"processed_pdbs/2qp2A.pdb\".\n"
     ]
    },
    {
     "name": "stderr",
     "output_type": "stream",
     "text": [
      "2024-10-04 15:27:30,232 - DEBUG - Deleted PDB object 2qp2 from PyMOL\n"
     ]
    },
    {
     "name": "stdout",
     "output_type": "stream",
     "text": [
      "PyMOL>delete 2qp2\n"
     ]
    },
    {
     "name": "stderr",
     "output_type": "stream",
     "text": [
      "2024-10-04 15:27:35,238 - DEBUG - Processing PDB ID: 6cxo, Chain: A\n",
      "2024-10-04 15:27:35,240 - INFO - Fetched PDB ID: 6cxo\n"
     ]
    },
    {
     "name": "stdout",
     "output_type": "stream",
     "text": [
      "PyMOL>fetch 6cxo, async=0\n",
      "TITLE     Complement component-9\n",
      " ExecutiveLoad-Detail: Detected mmCIF\n",
      " CmdLoad: \"./6cxo.cif\" loaded as \"6cxo\".\n"
     ]
    },
    {
     "name": "stderr",
     "output_type": "stream",
     "text": [
      "2024-10-04 15:27:40,243 - DEBUG - Removed all chains except Chain A for PDB ID: 6cxo\n"
     ]
    },
    {
     "name": "stdout",
     "output_type": "stream",
     "text": [
      "PyMOL>remove not chain A\n",
      " Remove: eliminated 3843 atoms in model \"6cxo\".\n"
     ]
    },
    {
     "name": "stderr",
     "output_type": "stream",
     "text": [
      "2024-10-04 15:27:45,250 - INFO - Saved Chain A of PDB ID 6cxo to processed_pdbs/6cxoA.pdb\n"
     ]
    },
    {
     "name": "stdout",
     "output_type": "stream",
     "text": [
      "PyMOL>save processed_pdbs/6cxoA.pdb, chain A\n",
      " Save: wrote \"processed_pdbs/6cxoA.pdb\".\n"
     ]
    },
    {
     "name": "stderr",
     "output_type": "stream",
     "text": [
      "2024-10-04 15:27:50,252 - DEBUG - Deleted PDB object 6cxo from PyMOL\n"
     ]
    },
    {
     "name": "stdout",
     "output_type": "stream",
     "text": [
      "PyMOL>delete 6cxo\n"
     ]
    },
    {
     "name": "stderr",
     "output_type": "stream",
     "text": [
      "2024-10-04 15:27:55,257 - DEBUG - Processing PDB ID: 8b6u, Chain: A\n",
      "2024-10-04 15:27:55,258 - INFO - Fetched PDB ID: 8b6u\n"
     ]
    },
    {
     "name": "stdout",
     "output_type": "stream",
     "text": [
      "PyMOL>fetch 8b6u, async=0\n",
      "TITLE     Mpf2Ba1 monomer\n",
      " ExecutiveLoad-Detail: Detected mmCIF\n",
      " CmdLoad: \"./8b6u.cif\" loaded as \"8b6u\".\n"
     ]
    },
    {
     "name": "stderr",
     "output_type": "stream",
     "text": [
      "2024-10-04 15:28:00,261 - DEBUG - Removed all chains except Chain A for PDB ID: 8b6u\n"
     ]
    },
    {
     "name": "stdout",
     "output_type": "stream",
     "text": [
      "PyMOL>remove not chain A\n"
     ]
    },
    {
     "name": "stderr",
     "output_type": "stream",
     "text": [
      "2024-10-04 15:28:05,265 - INFO - Saved Chain A of PDB ID 8b6u to processed_pdbs/8b6uA.pdb\n"
     ]
    },
    {
     "name": "stdout",
     "output_type": "stream",
     "text": [
      "PyMOL>save processed_pdbs/8b6uA.pdb, chain A\n",
      " Save: wrote \"processed_pdbs/8b6uA.pdb\".\n"
     ]
    },
    {
     "name": "stderr",
     "output_type": "stream",
     "text": [
      "2024-10-04 15:28:10,269 - DEBUG - Deleted PDB object 8b6u from PyMOL\n"
     ]
    },
    {
     "name": "stdout",
     "output_type": "stream",
     "text": [
      "PyMOL>delete 8b6u\n"
     ]
    },
    {
     "name": "stderr",
     "output_type": "stream",
     "text": [
      "2024-10-04 15:28:15,271 - DEBUG - Processing PDB ID: 4a5w, Chain: B\n",
      "2024-10-04 15:28:15,272 - INFO - Fetched PDB ID: 4a5w\n"
     ]
    },
    {
     "name": "stdout",
     "output_type": "stream",
     "text": [
      "PyMOL>fetch 4a5w, async=0\n",
      "TITLE     Crystal structure of C5b6\n",
      " ExecutiveLoad-Detail: Detected mmCIF\n",
      " CmdLoad: \"./4a5w.cif\" loaded as \"4a5w\".\n"
     ]
    },
    {
     "name": "stderr",
     "output_type": "stream",
     "text": [
      "2024-10-04 15:28:20,273 - DEBUG - Removed all chains except Chain B for PDB ID: 4a5w\n"
     ]
    },
    {
     "name": "stdout",
     "output_type": "stream",
     "text": [
      "PyMOL>remove not chain B\n",
      " Remove: eliminated 12191 atoms in model \"4a5w\".\n"
     ]
    },
    {
     "name": "stderr",
     "output_type": "stream",
     "text": [
      "2024-10-04 15:28:25,275 - INFO - Saved Chain B of PDB ID 4a5w to processed_pdbs/4a5wB.pdb\n"
     ]
    },
    {
     "name": "stdout",
     "output_type": "stream",
     "text": [
      "PyMOL>save processed_pdbs/4a5wB.pdb, chain B\n",
      " Save: wrote \"processed_pdbs/4a5wB.pdb\".\n"
     ]
    },
    {
     "name": "stderr",
     "output_type": "stream",
     "text": [
      "2024-10-04 15:28:30,277 - DEBUG - Deleted PDB object 4a5w from PyMOL\n"
     ]
    },
    {
     "name": "stdout",
     "output_type": "stream",
     "text": [
      "PyMOL>delete 4a5w\n"
     ]
    },
    {
     "name": "stderr",
     "output_type": "stream",
     "text": [
      "2024-10-04 15:28:35,280 - DEBUG - Processing PDB ID: 3kk7, Chain: A\n",
      "2024-10-04 15:28:35,281 - INFO - Fetched PDB ID: 3kk7\n"
     ]
    },
    {
     "name": "stdout",
     "output_type": "stream",
     "text": [
      "PyMOL>fetch 3kk7, async=0\n",
      "TITLE     Crystal structure of Putative cell invasion protein with MAC/Perforin domain (NP_812351.1) from BACTERIODES THETAIOTAOMICRON VPI-5482 at 2.46 A resolution\n",
      " ExecutiveLoad-Detail: Detected mmCIF\n",
      " CmdLoad: \"./3kk7.cif\" loaded as \"3kk7\".\n"
     ]
    },
    {
     "name": "stderr",
     "output_type": "stream",
     "text": [
      "2024-10-04 15:28:40,285 - DEBUG - Removed all chains except Chain A for PDB ID: 3kk7\n"
     ]
    },
    {
     "name": "stdout",
     "output_type": "stream",
     "text": [
      "PyMOL>remove not chain A\n",
      " Remove: eliminated 4191 atoms in model \"3kk7\".\n"
     ]
    },
    {
     "name": "stderr",
     "output_type": "stream",
     "text": [
      "2024-10-04 15:28:45,287 - INFO - Saved Chain A of PDB ID 3kk7 to processed_pdbs/3kk7A.pdb\n"
     ]
    },
    {
     "name": "stdout",
     "output_type": "stream",
     "text": [
      "PyMOL>save processed_pdbs/3kk7A.pdb, chain A\n",
      " Save: wrote \"processed_pdbs/3kk7A.pdb\".\n"
     ]
    },
    {
     "name": "stderr",
     "output_type": "stream",
     "text": [
      "2024-10-04 15:28:50,290 - DEBUG - Deleted PDB object 3kk7 from PyMOL\n"
     ]
    },
    {
     "name": "stdout",
     "output_type": "stream",
     "text": [
      "PyMOL>delete 3kk7\n"
     ]
    },
    {
     "name": "stderr",
     "output_type": "stream",
     "text": [
      "2024-10-04 15:28:55,292 - DEBUG - Processing PDB ID: 4oej, Chain: A\n",
      "2024-10-04 15:28:55,293 - INFO - Fetched PDB ID: 4oej\n"
     ]
    },
    {
     "name": "stdout",
     "output_type": "stream",
     "text": [
      "PyMOL>fetch 4oej, async=0\n",
      "TITLE     Structure of membrane binding protein pleurotolysin B from Pleurotus ostreatus\n",
      " ExecutiveLoad-Detail: Detected mmCIF\n",
      " CmdLoad: \"./4oej.cif\" loaded as \"4oej\".\n"
     ]
    },
    {
     "name": "stderr",
     "output_type": "stream",
     "text": [
      "2024-10-04 15:29:00,309 - DEBUG - Removed all chains except Chain A for PDB ID: 4oej\n"
     ]
    },
    {
     "name": "stdout",
     "output_type": "stream",
     "text": [
      "PyMOL>remove not chain A\n"
     ]
    },
    {
     "name": "stderr",
     "output_type": "stream",
     "text": [
      "2024-10-04 15:29:05,319 - INFO - Saved Chain A of PDB ID 4oej to processed_pdbs/4oejA.pdb\n"
     ]
    },
    {
     "name": "stdout",
     "output_type": "stream",
     "text": [
      "PyMOL>save processed_pdbs/4oejA.pdb, chain A\n",
      " Save: wrote \"processed_pdbs/4oejA.pdb\".\n"
     ]
    },
    {
     "name": "stderr",
     "output_type": "stream",
     "text": [
      "2024-10-04 15:29:10,321 - DEBUG - Deleted PDB object 4oej from PyMOL\n"
     ]
    },
    {
     "name": "stdout",
     "output_type": "stream",
     "text": [
      "PyMOL>delete 4oej\n"
     ]
    },
    {
     "name": "stderr",
     "output_type": "stream",
     "text": [
      "2024-10-04 15:29:15,323 - DEBUG - Processing PDB ID: 4ov8, Chain: A\n",
      "2024-10-04 15:29:15,324 - INFO - Fetched PDB ID: 4ov8\n"
     ]
    },
    {
     "name": "stdout",
     "output_type": "stream",
     "text": [
      "PyMOL>fetch 4ov8, async=0\n",
      "TITLE     Crystal Structure of the TMH1-lock mutant of the mature form of pleurotolysin B\n",
      " ExecutiveLoad-Detail: Detected mmCIF\n",
      " CmdLoad: \"./4ov8.cif\" loaded as \"4ov8\".\n"
     ]
    },
    {
     "name": "stderr",
     "output_type": "stream",
     "text": [
      "2024-10-04 15:29:20,326 - DEBUG - Removed all chains except Chain A for PDB ID: 4ov8\n"
     ]
    },
    {
     "name": "stdout",
     "output_type": "stream",
     "text": [
      "PyMOL>remove not chain A\n"
     ]
    },
    {
     "name": "stderr",
     "output_type": "stream",
     "text": [
      "2024-10-04 15:29:25,350 - INFO - Saved Chain A of PDB ID 4ov8 to processed_pdbs/4ov8A.pdb\n"
     ]
    },
    {
     "name": "stdout",
     "output_type": "stream",
     "text": [
      "PyMOL>save processed_pdbs/4ov8A.pdb, chain A\n",
      " Save: wrote \"processed_pdbs/4ov8A.pdb\".\n"
     ]
    },
    {
     "name": "stderr",
     "output_type": "stream",
     "text": [
      "2024-10-04 15:29:30,358 - DEBUG - Deleted PDB object 4ov8 from PyMOL\n"
     ]
    },
    {
     "name": "stdout",
     "output_type": "stream",
     "text": [
      "PyMOL>delete 4ov8\n"
     ]
    },
    {
     "name": "stderr",
     "output_type": "stream",
     "text": [
      "2024-10-04 15:29:35,362 - DEBUG - Processing PDB ID: 6r2q, Chain: B\n",
      "2024-10-04 15:29:35,362 - INFO - Fetched PDB ID: 6r2q\n"
     ]
    },
    {
     "name": "stdout",
     "output_type": "stream",
     "text": [
      "PyMOL>fetch 6r2q, async=0\n",
      "TITLE     Structure of the Mtr complex\n",
      " ExecutiveLoad-Detail: Detected mmCIF\n",
      " CmdLoad: \"./6r2q.cif\" loaded as \"6r2q\".\n"
     ]
    },
    {
     "name": "stderr",
     "output_type": "stream",
     "text": [
      "2024-10-04 15:29:40,367 - DEBUG - Removed all chains except Chain B for PDB ID: 6r2q\n"
     ]
    },
    {
     "name": "stdout",
     "output_type": "stream",
     "text": [
      "PyMOL>remove not chain B\n",
      " Remove: eliminated 14224 atoms in model \"6r2q\".\n"
     ]
    },
    {
     "name": "stderr",
     "output_type": "stream",
     "text": [
      "2024-10-04 15:29:45,373 - INFO - Saved Chain B of PDB ID 6r2q to processed_pdbs/6r2qB.pdb\n"
     ]
    },
    {
     "name": "stdout",
     "output_type": "stream",
     "text": [
      "PyMOL>save processed_pdbs/6r2qB.pdb, chain B\n",
      " Save: wrote \"processed_pdbs/6r2qB.pdb\".\n"
     ]
    },
    {
     "name": "stderr",
     "output_type": "stream",
     "text": [
      "2024-10-04 15:29:50,376 - DEBUG - Deleted PDB object 6r2q from PyMOL\n"
     ]
    },
    {
     "name": "stdout",
     "output_type": "stream",
     "text": [
      "PyMOL>delete 6r2q\n"
     ]
    },
    {
     "name": "stderr",
     "output_type": "stream",
     "text": [
      "2024-10-04 15:29:55,381 - DEBUG - Processing PDB ID: 5ljm, Chain: A\n",
      "2024-10-04 15:29:55,382 - INFO - Fetched PDB ID: 5ljm\n"
     ]
    },
    {
     "name": "stdout",
     "output_type": "stream",
     "text": [
      "PyMOL>fetch 5ljm, async=0\n",
      "TITLE     Structure of SPATA2 PUB domain\n",
      " ExecutiveLoad-Detail: Detected mmCIF\n",
      " CmdLoad: \"./5ljm.cif\" loaded as \"5ljm\".\n"
     ]
    },
    {
     "name": "stderr",
     "output_type": "stream",
     "text": [
      "2024-10-04 15:30:00,386 - DEBUG - Removed all chains except Chain A for PDB ID: 5ljm\n"
     ]
    },
    {
     "name": "stdout",
     "output_type": "stream",
     "text": [
      "PyMOL>remove not chain A\n"
     ]
    },
    {
     "name": "stderr",
     "output_type": "stream",
     "text": [
      "2024-10-04 15:30:05,390 - INFO - Saved Chain A of PDB ID 5ljm to processed_pdbs/5ljmA.pdb\n"
     ]
    },
    {
     "name": "stdout",
     "output_type": "stream",
     "text": [
      "PyMOL>save processed_pdbs/5ljmA.pdb, chain A\n",
      " Save: wrote \"processed_pdbs/5ljmA.pdb\".\n"
     ]
    },
    {
     "name": "stderr",
     "output_type": "stream",
     "text": [
      "2024-10-04 15:30:10,399 - DEBUG - Deleted PDB object 5ljm from PyMOL\n"
     ]
    },
    {
     "name": "stdout",
     "output_type": "stream",
     "text": [
      "PyMOL>delete 5ljm\n"
     ]
    },
    {
     "name": "stderr",
     "output_type": "stream",
     "text": [
      "2024-10-04 15:30:15,403 - DEBUG - Processing PDB ID: 4leu, Chain: A\n",
      "2024-10-04 15:30:15,405 - INFO - Fetched PDB ID: 4leu\n"
     ]
    },
    {
     "name": "stdout",
     "output_type": "stream",
     "text": [
      "PyMOL>fetch 4leu, async=0\n",
      "TITLE     Crystal Structure of THA8-like protein from Arabidopsis thaliana\n",
      " ExecutiveLoad-Detail: Detected mmCIF\n",
      " CmdLoad: \"./4leu.cif\" loaded as \"4leu\".\n"
     ]
    },
    {
     "name": "stderr",
     "output_type": "stream",
     "text": [
      "2024-10-04 15:30:20,409 - DEBUG - Removed all chains except Chain A for PDB ID: 4leu\n"
     ]
    },
    {
     "name": "stdout",
     "output_type": "stream",
     "text": [
      "PyMOL>remove not chain A\n"
     ]
    },
    {
     "name": "stderr",
     "output_type": "stream",
     "text": [
      "2024-10-04 15:30:25,412 - INFO - Saved Chain A of PDB ID 4leu to processed_pdbs/4leuA.pdb\n"
     ]
    },
    {
     "name": "stdout",
     "output_type": "stream",
     "text": [
      "PyMOL>save processed_pdbs/4leuA.pdb, chain A\n",
      " Save: wrote \"processed_pdbs/4leuA.pdb\".\n"
     ]
    },
    {
     "name": "stderr",
     "output_type": "stream",
     "text": [
      "2024-10-04 15:30:30,418 - DEBUG - Deleted PDB object 4leu from PyMOL\n"
     ]
    },
    {
     "name": "stdout",
     "output_type": "stream",
     "text": [
      "PyMOL>delete 4leu\n"
     ]
    },
    {
     "name": "stderr",
     "output_type": "stream",
     "text": [
      "2024-10-04 15:30:35,424 - DEBUG - Processing PDB ID: 3v89, Chain: A\n",
      "2024-10-04 15:30:35,425 - INFO - Fetched PDB ID: 3v89\n"
     ]
    },
    {
     "name": "stdout",
     "output_type": "stream",
     "text": [
      "PyMOL>fetch 3v89, async=0\n",
      "TITLE     The crystal structure of transferrin binding protein A (TbpA) from Neisseria meningitidis serogroup B in complex with the C-lobe of human transferrin\n",
      " ExecutiveLoad-Detail: Detected mmCIF\n",
      " CmdLoad: \"./3v89.cif\" loaded as \"3v89\".\n"
     ]
    },
    {
     "name": "stderr",
     "output_type": "stream",
     "text": [
      "2024-10-04 15:30:40,429 - DEBUG - Removed all chains except Chain A for PDB ID: 3v89\n"
     ]
    },
    {
     "name": "stdout",
     "output_type": "stream",
     "text": [
      "PyMOL>remove not chain A\n",
      " Remove: eliminated 2556 atoms in model \"3v89\".\n"
     ]
    },
    {
     "name": "stderr",
     "output_type": "stream",
     "text": [
      "2024-10-04 15:30:45,435 - INFO - Saved Chain A of PDB ID 3v89 to processed_pdbs/3v89A.pdb\n"
     ]
    },
    {
     "name": "stdout",
     "output_type": "stream",
     "text": [
      "PyMOL>save processed_pdbs/3v89A.pdb, chain A\n",
      " Save: wrote \"processed_pdbs/3v89A.pdb\".\n"
     ]
    },
    {
     "name": "stderr",
     "output_type": "stream",
     "text": [
      "2024-10-04 15:30:50,439 - DEBUG - Deleted PDB object 3v89 from PyMOL\n"
     ]
    },
    {
     "name": "stdout",
     "output_type": "stream",
     "text": [
      "PyMOL>delete 3v89\n"
     ]
    },
    {
     "name": "stderr",
     "output_type": "stream",
     "text": [
      "2024-10-04 15:30:55,441 - DEBUG - Processing PDB ID: 4wvm, Chain: B\n",
      "2024-10-04 15:30:55,442 - INFO - Fetched PDB ID: 4wvm\n"
     ]
    },
    {
     "name": "stdout",
     "output_type": "stream",
     "text": [
      "PyMOL>fetch 4wvm, async=0\n",
      "TITLE     Stonustoxin structure\n",
      " ExecutiveLoad-Detail: Detected mmCIF\n",
      " CmdLoad: \"./4wvm.cif\" loaded as \"4wvm\".\n"
     ]
    },
    {
     "name": "stderr",
     "output_type": "stream",
     "text": [
      "2024-10-04 15:31:00,446 - DEBUG - Removed all chains except Chain B for PDB ID: 4wvm\n"
     ]
    },
    {
     "name": "stdout",
     "output_type": "stream",
     "text": [
      "PyMOL>remove not chain B\n",
      " Remove: eliminated 4890 atoms in model \"4wvm\".\n"
     ]
    },
    {
     "name": "stderr",
     "output_type": "stream",
     "text": [
      "2024-10-04 15:31:05,448 - INFO - Saved Chain B of PDB ID 4wvm to processed_pdbs/4wvmB.pdb\n"
     ]
    },
    {
     "name": "stdout",
     "output_type": "stream",
     "text": [
      "PyMOL>save processed_pdbs/4wvmB.pdb, chain B\n",
      " Save: wrote \"processed_pdbs/4wvmB.pdb\".\n"
     ]
    },
    {
     "name": "stderr",
     "output_type": "stream",
     "text": [
      "2024-10-04 15:31:10,452 - DEBUG - Deleted PDB object 4wvm from PyMOL\n"
     ]
    },
    {
     "name": "stdout",
     "output_type": "stream",
     "text": [
      "PyMOL>delete 4wvm\n"
     ]
    },
    {
     "name": "stderr",
     "output_type": "stream",
     "text": [
      "2024-10-04 15:31:15,455 - DEBUG - Processing PDB ID: 4cdb, Chain: A\n",
      "2024-10-04 15:31:15,459 - INFO - Fetched PDB ID: 4cdb\n"
     ]
    },
    {
     "name": "stdout",
     "output_type": "stream",
     "text": [
      "PyMOL>fetch 4cdb, async=0\n",
      "TITLE     Crystal structure of listeriolysin O\n",
      " ExecutiveLoad-Detail: Detected mmCIF\n",
      " CmdLoad: \"./4cdb.cif\" loaded as \"4cdb\".\n"
     ]
    },
    {
     "name": "stderr",
     "output_type": "stream",
     "text": [
      "2024-10-04 15:31:20,467 - DEBUG - Removed all chains except Chain A for PDB ID: 4cdb\n"
     ]
    },
    {
     "name": "stdout",
     "output_type": "stream",
     "text": [
      "PyMOL>remove not chain A\n"
     ]
    },
    {
     "name": "stderr",
     "output_type": "stream",
     "text": [
      "2024-10-04 15:31:25,470 - INFO - Saved Chain A of PDB ID 4cdb to processed_pdbs/4cdbA.pdb\n"
     ]
    },
    {
     "name": "stdout",
     "output_type": "stream",
     "text": [
      "PyMOL>save processed_pdbs/4cdbA.pdb, chain A\n",
      " Save: wrote \"processed_pdbs/4cdbA.pdb\".\n"
     ]
    },
    {
     "name": "stderr",
     "output_type": "stream",
     "text": [
      "2024-10-04 15:31:30,475 - DEBUG - Deleted PDB object 4cdb from PyMOL\n"
     ]
    },
    {
     "name": "stdout",
     "output_type": "stream",
     "text": [
      "PyMOL>delete 4cdb\n"
     ]
    },
    {
     "name": "stderr",
     "output_type": "stream",
     "text": [
      "2024-10-04 15:31:35,482 - DEBUG - Processing PDB ID: 7zke, Chain: E\n",
      "2024-10-04 15:31:35,483 - INFO - Fetched PDB ID: 7zke\n"
     ]
    },
    {
     "name": "stdout",
     "output_type": "stream",
     "text": [
      "PyMOL>fetch 7zke, async=0\n",
      "TITLE     Mot1:TBP:DNA - pre-hydrolysis state\n",
      " ExecutiveLoad-Detail: Detected mmCIF\n",
      " CmdLoad: \"./7zke.cif\" loaded as \"7zke\".\n"
     ]
    },
    {
     "name": "stderr",
     "output_type": "stream",
     "text": [
      "2024-10-04 15:31:40,484 - DEBUG - Removed all chains except Chain E for PDB ID: 7zke\n"
     ]
    },
    {
     "name": "stdout",
     "output_type": "stream",
     "text": [
      "PyMOL>remove not chain E\n",
      " Remove: eliminated 3635 atoms in model \"7zke\".\n"
     ]
    },
    {
     "name": "stderr",
     "output_type": "stream",
     "text": [
      "2024-10-04 15:31:45,488 - INFO - Saved Chain E of PDB ID 7zke to processed_pdbs/7zkeE.pdb\n"
     ]
    },
    {
     "name": "stdout",
     "output_type": "stream",
     "text": [
      "PyMOL>save processed_pdbs/7zkeE.pdb, chain E\n",
      " Save: wrote \"processed_pdbs/7zkeE.pdb\".\n"
     ]
    },
    {
     "name": "stderr",
     "output_type": "stream",
     "text": [
      "2024-10-04 15:31:50,493 - DEBUG - Deleted PDB object 7zke from PyMOL\n"
     ]
    },
    {
     "name": "stdout",
     "output_type": "stream",
     "text": [
      "PyMOL>delete 7zke\n"
     ]
    },
    {
     "name": "stderr",
     "output_type": "stream",
     "text": [
      "2024-10-04 15:31:55,496 - DEBUG - Processing PDB ID: 2grm, Chain: A\n",
      "2024-10-04 15:31:55,497 - INFO - Fetched PDB ID: 2grm\n"
     ]
    },
    {
     "name": "stdout",
     "output_type": "stream",
     "text": [
      "PyMOL>fetch 2grm, async=0\n",
      "TITLE     Crystal structure of PrgX/iCF10 complex\n",
      " ExecutiveLoad-Detail: Detected mmCIF\n",
      " CmdLoad: \"./2grm.cif\" loaded as \"2grm\".\n"
     ]
    },
    {
     "name": "stderr",
     "output_type": "stream",
     "text": [
      "2024-10-04 15:32:00,501 - DEBUG - Removed all chains except Chain A for PDB ID: 2grm\n"
     ]
    },
    {
     "name": "stdout",
     "output_type": "stream",
     "text": [
      "PyMOL>remove not chain A\n",
      " Remove: eliminated 5184 atoms in model \"2grm\".\n"
     ]
    },
    {
     "name": "stderr",
     "output_type": "stream",
     "text": [
      "2024-10-04 15:32:05,503 - INFO - Saved Chain A of PDB ID 2grm to processed_pdbs/2grmA.pdb\n"
     ]
    },
    {
     "name": "stdout",
     "output_type": "stream",
     "text": [
      "PyMOL>save processed_pdbs/2grmA.pdb, chain A\n",
      " Save: wrote \"processed_pdbs/2grmA.pdb\".\n"
     ]
    },
    {
     "name": "stderr",
     "output_type": "stream",
     "text": [
      "2024-10-04 15:32:10,505 - DEBUG - Deleted PDB object 2grm from PyMOL\n"
     ]
    },
    {
     "name": "stdout",
     "output_type": "stream",
     "text": [
      "PyMOL>delete 2grm\n"
     ]
    },
    {
     "name": "stderr",
     "output_type": "stream",
     "text": [
      "2024-10-04 15:32:15,509 - DEBUG - Processing PDB ID: 5tc1, Chain: M\n",
      "2024-10-04 15:32:15,510 - INFO - Fetched PDB ID: 5tc1\n"
     ]
    },
    {
     "name": "stdout",
     "output_type": "stream",
     "text": [
      "PyMOL>fetch 5tc1, async=0\n",
      "TITLE     In situ structures of the genome and genome-delivery apparatus in ssRNA bacteriophage MS2\n",
      " ExecutiveLoad-Detail: Detected mmCIF\n",
      " CmdLoad: \"./5tc1.cif\" loaded as \"5tc1\".\n"
     ]
    },
    {
     "name": "stderr",
     "output_type": "stream",
     "text": [
      "2024-10-04 15:32:20,513 - DEBUG - Removed all chains except Chain M for PDB ID: 5tc1\n"
     ]
    },
    {
     "name": "stdout",
     "output_type": "stream",
     "text": [
      "PyMOL>remove not chain M\n",
      " Remove: eliminated 12803 atoms in model \"5tc1\".\n"
     ]
    },
    {
     "name": "stderr",
     "output_type": "stream",
     "text": [
      "2024-10-04 15:32:25,517 - INFO - Saved Chain M of PDB ID 5tc1 to processed_pdbs/5tc1M.pdb\n"
     ]
    },
    {
     "name": "stdout",
     "output_type": "stream",
     "text": [
      "PyMOL>save processed_pdbs/5tc1M.pdb, chain M\n",
      " Save: wrote \"processed_pdbs/5tc1M.pdb\".\n"
     ]
    },
    {
     "name": "stderr",
     "output_type": "stream",
     "text": [
      "2024-10-04 15:32:30,522 - DEBUG - Deleted PDB object 5tc1 from PyMOL\n"
     ]
    },
    {
     "name": "stdout",
     "output_type": "stream",
     "text": [
      "PyMOL>delete 5tc1\n"
     ]
    },
    {
     "name": "stderr",
     "output_type": "stream",
     "text": [
      "2024-10-04 15:32:35,526 - DEBUG - Processing PDB ID: 8dml, Chain: B\n",
      "2024-10-04 15:32:35,527 - INFO - Fetched PDB ID: 8dml\n"
     ]
    },
    {
     "name": "stdout",
     "output_type": "stream",
     "text": [
      "PyMOL>fetch 8dml, async=0\n",
      "TITLE     Vibrio parahaemolyticus VtrA/VtrC complex bound to the bile salt chenodeoxycholate\n",
      " ExecutiveLoad-Detail: Detected mmCIF\n",
      " CmdLoad: \"./8dml.cif\" loaded as \"8dml\".\n"
     ]
    },
    {
     "name": "stderr",
     "output_type": "stream",
     "text": [
      "2024-10-04 15:32:40,531 - DEBUG - Removed all chains except Chain B for PDB ID: 8dml\n"
     ]
    },
    {
     "name": "stdout",
     "output_type": "stream",
     "text": [
      "PyMOL>remove not chain B\n",
      " Remove: eliminated 12906 atoms in model \"8dml\".\n"
     ]
    },
    {
     "name": "stderr",
     "output_type": "stream",
     "text": [
      "2024-10-04 15:32:45,534 - INFO - Saved Chain B of PDB ID 8dml to processed_pdbs/8dmlB.pdb\n"
     ]
    },
    {
     "name": "stdout",
     "output_type": "stream",
     "text": [
      "PyMOL>save processed_pdbs/8dmlB.pdb, chain B\n",
      " Save: wrote \"processed_pdbs/8dmlB.pdb\".\n"
     ]
    },
    {
     "name": "stderr",
     "output_type": "stream",
     "text": [
      "2024-10-04 15:32:50,536 - DEBUG - Deleted PDB object 8dml from PyMOL\n"
     ]
    },
    {
     "name": "stdout",
     "output_type": "stream",
     "text": [
      "PyMOL>delete 8dml\n"
     ]
    },
    {
     "name": "stderr",
     "output_type": "stream",
     "text": [
      "2024-10-04 15:32:55,540 - DEBUG - Processing PDB ID: 5fq6, Chain: M\n",
      "2024-10-04 15:32:55,541 - INFO - Fetched PDB ID: 5fq6\n"
     ]
    },
    {
     "name": "stdout",
     "output_type": "stream",
     "text": [
      "PyMOL>fetch 5fq6, async=0\n"
     ]
    },
    {
     "name": "stderr",
     "output_type": "stream",
     "text": [
      "2024-10-04 15:33:00,545 - DEBUG - Removed all chains except Chain M for PDB ID: 5fq6\n"
     ]
    },
    {
     "name": "stdout",
     "output_type": "stream",
     "text": [
      "PyMOL>remove not chain M\n",
      "TITLE     Crystal structure of the SusCD complex BT2261-2264 from Bacteroides thetaiotaomicron\n",
      " ExecutiveLoad-Detail: Detected mmCIF\n",
      " CmdLoad: \"./5fq6.cif\" loaded as \"5fq6\".\n",
      " Remove: eliminated 41997 atoms in model \"5fq6\".\n"
     ]
    },
    {
     "name": "stderr",
     "output_type": "stream",
     "text": [
      "2024-10-04 15:33:05,557 - INFO - Saved Chain M of PDB ID 5fq6 to processed_pdbs/5fq6M.pdb\n"
     ]
    },
    {
     "name": "stdout",
     "output_type": "stream",
     "text": [
      "PyMOL>save processed_pdbs/5fq6M.pdb, chain M\n",
      " Save: wrote \"processed_pdbs/5fq6M.pdb\".\n"
     ]
    },
    {
     "name": "stderr",
     "output_type": "stream",
     "text": [
      "2024-10-04 15:33:10,561 - DEBUG - Deleted PDB object 5fq6 from PyMOL\n"
     ]
    },
    {
     "name": "stdout",
     "output_type": "stream",
     "text": [
      "PyMOL>delete 5fq6\n"
     ]
    },
    {
     "name": "stderr",
     "output_type": "stream",
     "text": [
      "2024-10-04 15:33:15,564 - DEBUG - Processing PDB ID: 7jw3, Chain: C\n",
      "2024-10-04 15:33:15,565 - INFO - Fetched PDB ID: 7jw3\n"
     ]
    },
    {
     "name": "stdout",
     "output_type": "stream",
     "text": [
      "PyMOL>fetch 7jw3, async=0\n",
      "TITLE     Crystal structure of Aedes aegypti Nibbler NTD domain\n",
      " ExecutiveLoad-Detail: Detected mmCIF\n",
      " CmdLoad: \"./7jw3.cif\" loaded as \"7jw3\".\n"
     ]
    },
    {
     "name": "stderr",
     "output_type": "stream",
     "text": [
      "2024-10-04 15:33:20,568 - DEBUG - Removed all chains except Chain C for PDB ID: 7jw3\n"
     ]
    },
    {
     "name": "stdout",
     "output_type": "stream",
     "text": [
      "PyMOL>remove not chain C\n",
      " Remove: eliminated 4339 atoms in model \"7jw3\".\n"
     ]
    },
    {
     "name": "stderr",
     "output_type": "stream",
     "text": [
      "2024-10-04 15:33:25,574 - INFO - Saved Chain C of PDB ID 7jw3 to processed_pdbs/7jw3C.pdb\n"
     ]
    },
    {
     "name": "stdout",
     "output_type": "stream",
     "text": [
      "PyMOL>save processed_pdbs/7jw3C.pdb, chain C\n",
      " Save: wrote \"processed_pdbs/7jw3C.pdb\".\n"
     ]
    },
    {
     "name": "stderr",
     "output_type": "stream",
     "text": [
      "2024-10-04 15:33:30,576 - DEBUG - Deleted PDB object 7jw3 from PyMOL\n"
     ]
    },
    {
     "name": "stdout",
     "output_type": "stream",
     "text": [
      "PyMOL>delete 7jw3\n"
     ]
    },
    {
     "name": "stderr",
     "output_type": "stream",
     "text": [
      "2024-10-04 15:33:35,578 - DEBUG - Processing PDB ID: 6xd4, Chain: A\n",
      "2024-10-04 15:33:35,580 - INFO - Fetched PDB ID: 6xd4\n"
     ]
    },
    {
     "name": "stdout",
     "output_type": "stream",
     "text": [
      "PyMOL>fetch 6xd4, async=0\n",
      "TITLE     CDC-like protein\n",
      " ExecutiveLoad-Detail: Detected mmCIF\n",
      " CmdLoad: \"./6xd4.cif\" loaded as \"6xd4\".\n"
     ]
    },
    {
     "name": "stderr",
     "output_type": "stream",
     "text": [
      "2024-10-04 15:33:40,581 - DEBUG - Removed all chains except Chain A for PDB ID: 6xd4\n"
     ]
    },
    {
     "name": "stdout",
     "output_type": "stream",
     "text": [
      "PyMOL>remove not chain A\n"
     ]
    },
    {
     "name": "stderr",
     "output_type": "stream",
     "text": [
      "2024-10-04 15:33:45,583 - INFO - Saved Chain A of PDB ID 6xd4 to processed_pdbs/6xd4A.pdb\n"
     ]
    },
    {
     "name": "stdout",
     "output_type": "stream",
     "text": [
      "PyMOL>save processed_pdbs/6xd4A.pdb, chain A\n",
      " Save: wrote \"processed_pdbs/6xd4A.pdb\".\n"
     ]
    },
    {
     "name": "stderr",
     "output_type": "stream",
     "text": [
      "2024-10-04 15:33:50,584 - DEBUG - Deleted PDB object 6xd4 from PyMOL\n"
     ]
    },
    {
     "name": "stdout",
     "output_type": "stream",
     "text": [
      "PyMOL>delete 6xd4\n"
     ]
    },
    {
     "name": "stderr",
     "output_type": "stream",
     "text": [
      "2024-10-04 15:33:55,586 - DEBUG - Processing PDB ID: 4me2, Chain: A\n",
      "2024-10-04 15:33:55,587 - INFO - Fetched PDB ID: 4me2\n"
     ]
    },
    {
     "name": "stdout",
     "output_type": "stream",
     "text": [
      "PyMOL>fetch 4me2, async=0\n",
      "TITLE     Crystal Structure of THA8 protein from Brachypodium distachyon\n",
      " ExecutiveLoad-Detail: Detected mmCIF\n",
      " CmdLoad: \"./4me2.cif\" loaded as \"4me2\".\n"
     ]
    },
    {
     "name": "stderr",
     "output_type": "stream",
     "text": [
      "2024-10-04 15:34:00,590 - DEBUG - Removed all chains except Chain A for PDB ID: 4me2\n"
     ]
    },
    {
     "name": "stdout",
     "output_type": "stream",
     "text": [
      "PyMOL>remove not chain A\n"
     ]
    },
    {
     "name": "stderr",
     "output_type": "stream",
     "text": [
      "2024-10-04 15:34:05,591 - INFO - Saved Chain A of PDB ID 4me2 to processed_pdbs/4me2A.pdb\n"
     ]
    },
    {
     "name": "stdout",
     "output_type": "stream",
     "text": [
      "PyMOL>save processed_pdbs/4me2A.pdb, chain A\n",
      " Save: wrote \"processed_pdbs/4me2A.pdb\".\n"
     ]
    },
    {
     "name": "stderr",
     "output_type": "stream",
     "text": [
      "2024-10-04 15:34:10,593 - DEBUG - Deleted PDB object 4me2 from PyMOL\n"
     ]
    },
    {
     "name": "stdout",
     "output_type": "stream",
     "text": [
      "PyMOL>delete 4me2\n"
     ]
    },
    {
     "name": "stderr",
     "output_type": "stream",
     "text": [
      "2024-10-04 15:34:15,598 - DEBUG - Processing PDB ID: 3l6a, Chain: A\n",
      "2024-10-04 15:34:15,600 - INFO - Fetched PDB ID: 3l6a\n"
     ]
    },
    {
     "name": "stdout",
     "output_type": "stream",
     "text": [
      "PyMOL>fetch 3l6a, async=0\n",
      "TITLE     Crystal structure of the C-terminal region of Human p97\n",
      " ExecutiveLoad-Detail: Detected mmCIF\n",
      " CmdLoad: \"./3l6a.cif\" loaded as \"3l6a\".\n"
     ]
    },
    {
     "name": "stderr",
     "output_type": "stream",
     "text": [
      "2024-10-04 15:34:20,603 - DEBUG - Removed all chains except Chain A for PDB ID: 3l6a\n"
     ]
    },
    {
     "name": "stdout",
     "output_type": "stream",
     "text": [
      "PyMOL>remove not chain A\n"
     ]
    },
    {
     "name": "stderr",
     "output_type": "stream",
     "text": [
      "2024-10-04 15:34:25,606 - INFO - Saved Chain A of PDB ID 3l6a to processed_pdbs/3l6aA.pdb\n"
     ]
    },
    {
     "name": "stdout",
     "output_type": "stream",
     "text": [
      "PyMOL>save processed_pdbs/3l6aA.pdb, chain A\n",
      " Save: wrote \"processed_pdbs/3l6aA.pdb\".\n"
     ]
    },
    {
     "name": "stderr",
     "output_type": "stream",
     "text": [
      "2024-10-04 15:34:30,608 - DEBUG - Deleted PDB object 3l6a from PyMOL\n"
     ]
    },
    {
     "name": "stdout",
     "output_type": "stream",
     "text": [
      "PyMOL>delete 3l6a\n"
     ]
    },
    {
     "name": "stderr",
     "output_type": "stream",
     "text": [
      "2024-10-04 15:34:35,612 - DEBUG - Processing PDB ID: 8jj6, Chain: A\n",
      "2024-10-04 15:34:35,613 - INFO - Fetched PDB ID: 8jj6\n"
     ]
    },
    {
     "name": "stdout",
     "output_type": "stream",
     "text": [
      "PyMOL>fetch 8jj6, async=0\n",
      "TITLE     Structure of the NELF-BCE complex\n",
      " ExecutiveLoad-Detail: Detected mmCIF\n",
      " CmdLoad: \"./8jj6.cif\" loaded as \"8jj6\".\n"
     ]
    },
    {
     "name": "stderr",
     "output_type": "stream",
     "text": [
      "2024-10-04 15:34:40,614 - DEBUG - Removed all chains except Chain A for PDB ID: 8jj6\n"
     ]
    },
    {
     "name": "stdout",
     "output_type": "stream",
     "text": [
      "PyMOL>remove not chain A\n",
      " Remove: eliminated 7395 atoms in model \"8jj6\".\n"
     ]
    },
    {
     "name": "stderr",
     "output_type": "stream",
     "text": [
      "2024-10-04 15:34:45,619 - INFO - Saved Chain A of PDB ID 8jj6 to processed_pdbs/8jj6A.pdb\n"
     ]
    },
    {
     "name": "stdout",
     "output_type": "stream",
     "text": [
      "PyMOL>save processed_pdbs/8jj6A.pdb, chain A\n",
      " Save: wrote \"processed_pdbs/8jj6A.pdb\".\n"
     ]
    },
    {
     "name": "stderr",
     "output_type": "stream",
     "text": [
      "2024-10-04 15:34:50,625 - DEBUG - Deleted PDB object 8jj6 from PyMOL\n"
     ]
    },
    {
     "name": "stdout",
     "output_type": "stream",
     "text": [
      "PyMOL>delete 8jj6\n"
     ]
    },
    {
     "name": "stderr",
     "output_type": "stream",
     "text": [
      "2024-10-04 15:34:55,627 - DEBUG - Processing PDB ID: 6gie, Chain: A\n",
      "2024-10-04 15:34:55,628 - INFO - Fetched PDB ID: 6gie\n"
     ]
    },
    {
     "name": "stdout",
     "output_type": "stream",
     "text": [
      "PyMOL>fetch 6gie, async=0\n",
      "TITLE     Crystal structure of the Acinetobacter baumannii outer membrane protein Omp33\n",
      " ExecutiveLoad-Detail: Detected mmCIF\n",
      " CmdLoad: \"./6gie.cif\" loaded as \"6gie\".\n"
     ]
    },
    {
     "name": "stderr",
     "output_type": "stream",
     "text": [
      "2024-10-04 15:35:00,631 - DEBUG - Removed all chains except Chain A for PDB ID: 6gie\n"
     ]
    },
    {
     "name": "stdout",
     "output_type": "stream",
     "text": [
      "PyMOL>remove not chain A\n"
     ]
    },
    {
     "name": "stderr",
     "output_type": "stream",
     "text": [
      "2024-10-04 15:35:05,637 - INFO - Saved Chain A of PDB ID 6gie to processed_pdbs/6gieA.pdb\n"
     ]
    },
    {
     "name": "stdout",
     "output_type": "stream",
     "text": [
      "PyMOL>save processed_pdbs/6gieA.pdb, chain A\n",
      " Save: wrote \"processed_pdbs/6gieA.pdb\".\n"
     ]
    },
    {
     "name": "stderr",
     "output_type": "stream",
     "text": [
      "2024-10-04 15:35:10,638 - DEBUG - Deleted PDB object 6gie from PyMOL\n"
     ]
    },
    {
     "name": "stdout",
     "output_type": "stream",
     "text": [
      "PyMOL>delete 6gie\n"
     ]
    },
    {
     "name": "stderr",
     "output_type": "stream",
     "text": [
      "2024-10-04 15:35:15,644 - DEBUG - Processing PDB ID: 2of3, Chain: A\n",
      "2024-10-04 15:35:15,645 - INFO - Fetched PDB ID: 2of3\n"
     ]
    },
    {
     "name": "stdout",
     "output_type": "stream",
     "text": [
      "PyMOL>fetch 2of3, async=0\n",
      "TITLE     TOG domain structure from C.elegans Zyg9\n",
      " ExecutiveLoad-Detail: Detected mmCIF\n",
      " CmdLoad: \"./2of3.cif\" loaded as \"2of3\".\n"
     ]
    },
    {
     "name": "stderr",
     "output_type": "stream",
     "text": [
      "2024-10-04 15:35:20,647 - DEBUG - Removed all chains except Chain A for PDB ID: 2of3\n"
     ]
    },
    {
     "name": "stdout",
     "output_type": "stream",
     "text": [
      "PyMOL>remove not chain A\n"
     ]
    },
    {
     "name": "stderr",
     "output_type": "stream",
     "text": [
      "2024-10-04 15:35:25,651 - INFO - Saved Chain A of PDB ID 2of3 to processed_pdbs/2of3A.pdb\n"
     ]
    },
    {
     "name": "stdout",
     "output_type": "stream",
     "text": [
      "PyMOL>save processed_pdbs/2of3A.pdb, chain A\n",
      " Save: wrote \"processed_pdbs/2of3A.pdb\".\n"
     ]
    },
    {
     "name": "stderr",
     "output_type": "stream",
     "text": [
      "2024-10-04 15:35:30,656 - DEBUG - Deleted PDB object 2of3 from PyMOL\n"
     ]
    },
    {
     "name": "stdout",
     "output_type": "stream",
     "text": [
      "PyMOL>delete 2of3\n"
     ]
    },
    {
     "name": "stderr",
     "output_type": "stream",
     "text": [
      "2024-10-04 15:35:35,658 - DEBUG - Processing PDB ID: 3woz, Chain: B\n",
      "2024-10-04 15:35:35,659 - INFO - Fetched PDB ID: 3woz\n"
     ]
    },
    {
     "name": "stdout",
     "output_type": "stream",
     "text": [
      "PyMOL>fetch 3woz, async=0\n",
      "TITLE     Crystal structure of CLASP2 TOG domain (TOG3)\n",
      " ExecutiveLoad-Detail: Detected mmCIF\n",
      " CmdLoad: \"./3woz.cif\" loaded as \"3woz\".\n"
     ]
    },
    {
     "name": "stderr",
     "output_type": "stream",
     "text": [
      "2024-10-04 15:35:40,661 - DEBUG - Removed all chains except Chain B for PDB ID: 3woz\n"
     ]
    },
    {
     "name": "stdout",
     "output_type": "stream",
     "text": [
      "PyMOL>remove not chain B\n",
      " Remove: eliminated 5761 atoms in model \"3woz\".\n"
     ]
    },
    {
     "name": "stderr",
     "output_type": "stream",
     "text": [
      "2024-10-04 15:35:45,665 - INFO - Saved Chain B of PDB ID 3woz to processed_pdbs/3wozB.pdb\n"
     ]
    },
    {
     "name": "stdout",
     "output_type": "stream",
     "text": [
      "PyMOL>save processed_pdbs/3wozB.pdb, chain B\n",
      " Save: wrote \"processed_pdbs/3wozB.pdb\".\n"
     ]
    },
    {
     "name": "stderr",
     "output_type": "stream",
     "text": [
      "2024-10-04 15:35:50,672 - DEBUG - Deleted PDB object 3woz from PyMOL\n"
     ]
    },
    {
     "name": "stdout",
     "output_type": "stream",
     "text": [
      "PyMOL>delete 3woz\n"
     ]
    },
    {
     "name": "stderr",
     "output_type": "stream",
     "text": [
      "2024-10-04 15:35:55,676 - DEBUG - Processing PDB ID: 3urz, Chain: B\n",
      "2024-10-04 15:35:55,677 - INFO - Fetched PDB ID: 3urz\n"
     ]
    },
    {
     "name": "stdout",
     "output_type": "stream",
     "text": [
      "PyMOL>fetch 3urz, async=0\n",
      "TITLE     Crystal structure of a putative protein binding protein (BACOVA_03105) from Bacteroides ovatus ATCC 8483 at 2.19 A resolution\n",
      " ExecutiveLoad-Detail: Detected mmCIF\n",
      " CmdLoad: \"./3urz.cif\" loaded as \"3urz\".\n"
     ]
    },
    {
     "name": "stderr",
     "output_type": "stream",
     "text": [
      "2024-10-04 15:36:00,679 - DEBUG - Removed all chains except Chain B for PDB ID: 3urz\n"
     ]
    },
    {
     "name": "stdout",
     "output_type": "stream",
     "text": [
      "PyMOL>remove not chain B\n",
      " Remove: eliminated 1630 atoms in model \"3urz\".\n"
     ]
    },
    {
     "name": "stderr",
     "output_type": "stream",
     "text": [
      "2024-10-04 15:36:05,682 - INFO - Saved Chain B of PDB ID 3urz to processed_pdbs/3urzB.pdb\n"
     ]
    },
    {
     "name": "stdout",
     "output_type": "stream",
     "text": [
      "PyMOL>save processed_pdbs/3urzB.pdb, chain B\n",
      " Save: wrote \"processed_pdbs/3urzB.pdb\".\n"
     ]
    },
    {
     "name": "stderr",
     "output_type": "stream",
     "text": [
      "2024-10-04 15:36:10,687 - DEBUG - Deleted PDB object 3urz from PyMOL\n"
     ]
    },
    {
     "name": "stdout",
     "output_type": "stream",
     "text": [
      "PyMOL>delete 3urz\n"
     ]
    },
    {
     "name": "stderr",
     "output_type": "stream",
     "text": [
      "2024-10-04 15:36:15,690 - DEBUG - Processing PDB ID: 9b9m, Chain: B\n",
      "2024-10-04 15:36:15,691 - INFO - Fetched PDB ID: 9b9m\n"
     ]
    },
    {
     "name": "stdout",
     "output_type": "stream",
     "text": [
      "PyMOL>fetch 9b9m, async=0\n",
      "TITLE     Crystal structure of iron-bound FlcD from Pseudomonas aeruginosa\n",
      " ExecutiveLoad-Detail: Detected mmCIF\n",
      " CmdLoad: \"./9b9m.cif\" loaded as \"9b9m\".\n"
     ]
    },
    {
     "name": "stderr",
     "output_type": "stream",
     "text": [
      "2024-10-04 15:36:20,692 - DEBUG - Removed all chains except Chain B for PDB ID: 9b9m\n"
     ]
    },
    {
     "name": "stdout",
     "output_type": "stream",
     "text": [
      "PyMOL>remove not chain B\n",
      " Remove: eliminated 8479 atoms in model \"9b9m\".\n"
     ]
    },
    {
     "name": "stderr",
     "output_type": "stream",
     "text": [
      "2024-10-04 15:36:25,695 - INFO - Saved Chain B of PDB ID 9b9m to processed_pdbs/9b9mB.pdb\n"
     ]
    },
    {
     "name": "stdout",
     "output_type": "stream",
     "text": [
      "PyMOL>save processed_pdbs/9b9mB.pdb, chain B\n",
      " Save: wrote \"processed_pdbs/9b9mB.pdb\".\n"
     ]
    },
    {
     "name": "stderr",
     "output_type": "stream",
     "text": [
      "2024-10-04 15:36:30,701 - DEBUG - Deleted PDB object 9b9m from PyMOL\n"
     ]
    },
    {
     "name": "stdout",
     "output_type": "stream",
     "text": [
      "PyMOL>delete 9b9m\n"
     ]
    },
    {
     "name": "stderr",
     "output_type": "stream",
     "text": [
      "2024-10-04 15:36:35,702 - DEBUG - Processing PDB ID: 2mbg, Chain: A\n",
      "2024-10-04 15:36:35,703 - INFO - Fetched PDB ID: 2mbg\n"
     ]
    },
    {
     "name": "stdout",
     "output_type": "stream",
     "text": [
      "PyMOL>fetch 2mbg, async=0\n"
     ]
    },
    {
     "name": "stderr",
     "output_type": "stream",
     "text": [
      "2024-10-04 15:36:40,708 - DEBUG - Removed all chains except Chain A for PDB ID: 2mbg\n"
     ]
    },
    {
     "name": "stdout",
     "output_type": "stream",
     "text": [
      "PyMOL>remove not chain A\n"
     ]
    },
    {
     "name": "stderr",
     "output_type": "stream",
     "text": [
      "2024-10-04 15:36:45,712 - INFO - Saved Chain A of PDB ID 2mbg to processed_pdbs/2mbgA.pdb\n"
     ]
    },
    {
     "name": "stdout",
     "output_type": "stream",
     "text": [
      "PyMOL>save processed_pdbs/2mbgA.pdb, chain A\n",
      "TITLE     Rlip76 (gap-gbd)\n",
      " ExecutiveLoad-Detail: Detected mmCIF\n",
      " CmdLoad: \"./2mbg.cif\" loaded as \"2mbg\".\n",
      " Save: wrote \"processed_pdbs/2mbgA.pdb\".\n"
     ]
    },
    {
     "name": "stderr",
     "output_type": "stream",
     "text": [
      "2024-10-04 15:36:50,717 - DEBUG - Deleted PDB object 2mbg from PyMOL\n"
     ]
    },
    {
     "name": "stdout",
     "output_type": "stream",
     "text": [
      "PyMOL>delete 2mbg\n"
     ]
    },
    {
     "name": "stderr",
     "output_type": "stream",
     "text": [
      "2024-10-04 15:36:55,722 - DEBUG - Processing PDB ID: 5aoe, Chain: A\n",
      "2024-10-04 15:36:55,723 - INFO - Fetched PDB ID: 5aoe\n"
     ]
    },
    {
     "name": "stdout",
     "output_type": "stream",
     "text": [
      "PyMOL>fetch 5aoe, async=0\n",
      "TITLE     Crystal structure of pneumolysin D168A mutant.\n",
      " ExecutiveLoad-Detail: Detected mmCIF\n",
      " CmdLoad: \"./5aoe.cif\" loaded as \"5aoe\".\n"
     ]
    },
    {
     "name": "stderr",
     "output_type": "stream",
     "text": [
      "2024-10-04 15:37:00,728 - DEBUG - Removed all chains except Chain A for PDB ID: 5aoe\n"
     ]
    },
    {
     "name": "stdout",
     "output_type": "stream",
     "text": [
      "PyMOL>remove not chain A\n",
      " Remove: eliminated 3936 atoms in model \"5aoe\".\n"
     ]
    },
    {
     "name": "stderr",
     "output_type": "stream",
     "text": [
      "2024-10-04 15:37:05,730 - INFO - Saved Chain A of PDB ID 5aoe to processed_pdbs/5aoeA.pdb\n"
     ]
    },
    {
     "name": "stdout",
     "output_type": "stream",
     "text": [
      "PyMOL>save processed_pdbs/5aoeA.pdb, chain A\n",
      " Save: wrote \"processed_pdbs/5aoeA.pdb\".\n"
     ]
    },
    {
     "name": "stderr",
     "output_type": "stream",
     "text": [
      "2024-10-04 15:37:10,734 - DEBUG - Deleted PDB object 5aoe from PyMOL\n"
     ]
    },
    {
     "name": "stdout",
     "output_type": "stream",
     "text": [
      "PyMOL>delete 5aoe\n"
     ]
    },
    {
     "name": "stderr",
     "output_type": "stream",
     "text": [
      "2024-10-04 15:37:15,737 - DEBUG - Processing PDB ID: 7usd, Chain: A\n",
      "2024-10-04 15:37:15,738 - INFO - Fetched PDB ID: 7usd\n"
     ]
    },
    {
     "name": "stdout",
     "output_type": "stream",
     "text": [
      "PyMOL>fetch 7usd, async=0\n",
      "TITLE     Cryo-EM structure of D-site Rac1-bound WAVE Regulatory Complex\n",
      " ExecutiveLoad-Detail: Detected mmCIF\n",
      " CmdLoad: \"./7usd.cif\" loaded as \"7usd\".\n"
     ]
    },
    {
     "name": "stderr",
     "output_type": "stream",
     "text": [
      "2024-10-04 15:37:20,741 - DEBUG - Removed all chains except Chain A for PDB ID: 7usd\n"
     ]
    },
    {
     "name": "stdout",
     "output_type": "stream",
     "text": [
      "PyMOL>remove not chain A\n",
      " Remove: eliminated 13710 atoms in model \"7usd\".\n"
     ]
    },
    {
     "name": "stderr",
     "output_type": "stream",
     "text": [
      "2024-10-04 15:37:25,744 - INFO - Saved Chain A of PDB ID 7usd to processed_pdbs/7usdA.pdb\n"
     ]
    },
    {
     "name": "stdout",
     "output_type": "stream",
     "text": [
      "PyMOL>save processed_pdbs/7usdA.pdb, chain A\n",
      " Save: wrote \"processed_pdbs/7usdA.pdb\".\n"
     ]
    },
    {
     "name": "stderr",
     "output_type": "stream",
     "text": [
      "2024-10-04 15:37:30,749 - DEBUG - Deleted PDB object 7usd from PyMOL\n"
     ]
    },
    {
     "name": "stdout",
     "output_type": "stream",
     "text": [
      "PyMOL>delete 7usd\n"
     ]
    },
    {
     "name": "stderr",
     "output_type": "stream",
     "text": [
      "2024-10-04 15:37:35,753 - DEBUG - Processing PDB ID: 8e2h, Chain: A\n",
      "2024-10-04 15:37:35,754 - INFO - Fetched PDB ID: 8e2h\n"
     ]
    },
    {
     "name": "stdout",
     "output_type": "stream",
     "text": [
      "PyMOL>fetch 8e2h, async=0\n",
      "TITLE     Cryo-EM structure of C-terminal arm of BIRC6 (from local refinement 4)\n",
      " ExecutiveLoad-Detail: Detected mmCIF\n",
      " CmdLoad: \"./8e2h.cif\" loaded as \"8e2h\".\n"
     ]
    },
    {
     "name": "stderr",
     "output_type": "stream",
     "text": [
      "2024-10-04 15:37:40,757 - DEBUG - Removed all chains except Chain A for PDB ID: 8e2h\n"
     ]
    },
    {
     "name": "stdout",
     "output_type": "stream",
     "text": [
      "PyMOL>remove not chain A\n"
     ]
    },
    {
     "name": "stderr",
     "output_type": "stream",
     "text": [
      "2024-10-04 15:37:45,763 - INFO - Saved Chain A of PDB ID 8e2h to processed_pdbs/8e2hA.pdb\n"
     ]
    },
    {
     "name": "stdout",
     "output_type": "stream",
     "text": [
      "PyMOL>save processed_pdbs/8e2hA.pdb, chain A\n",
      " Save: wrote \"processed_pdbs/8e2hA.pdb\".\n"
     ]
    },
    {
     "name": "stderr",
     "output_type": "stream",
     "text": [
      "2024-10-04 15:37:50,767 - DEBUG - Deleted PDB object 8e2h from PyMOL\n"
     ]
    },
    {
     "name": "stdout",
     "output_type": "stream",
     "text": [
      "PyMOL>delete 8e2h\n"
     ]
    },
    {
     "name": "stderr",
     "output_type": "stream",
     "text": [
      "2024-10-04 15:37:57,851 - DEBUG - Processing PDB ID: 5o9z, Chain: G\n",
      "2024-10-04 15:37:57,853 - INFO - Fetched PDB ID: 5o9z\n"
     ]
    },
    {
     "name": "stdout",
     "output_type": "stream",
     "text": [
      "PyMOL>fetch 5o9z, async=0\n"
     ]
    },
    {
     "name": "stderr",
     "output_type": "stream",
     "text": [
      "2024-10-04 15:38:02,857 - DEBUG - Removed all chains except Chain G for PDB ID: 5o9z\n"
     ]
    },
    {
     "name": "stdout",
     "output_type": "stream",
     "text": [
      "PyMOL>remove not chain G\n"
     ]
    },
    {
     "name": "stderr",
     "output_type": "stream",
     "text": [
      "2024-10-04 15:38:07,860 - INFO - Saved Chain G of PDB ID 5o9z to processed_pdbs/5o9zG.pdb\n"
     ]
    },
    {
     "name": "stdout",
     "output_type": "stream",
     "text": [
      "PyMOL>save processed_pdbs/5o9zG.pdb, chain G\n",
      "TITLE     Cryo-EM structure of a pre-catalytic human spliceosome primed for activation (B complex)\n",
      " ExecutiveLoad-Detail: Detected mmCIF\n",
      " CmdLoad: \"./5o9z.cif\" loaded as \"5o9z\".\n",
      " Remove: eliminated 60900 atoms in model \"5o9z\".\n",
      " Save: wrote \"processed_pdbs/5o9zG.pdb\".\n"
     ]
    },
    {
     "name": "stderr",
     "output_type": "stream",
     "text": [
      "2024-10-04 15:38:12,868 - DEBUG - Deleted PDB object 5o9z from PyMOL\n"
     ]
    },
    {
     "name": "stdout",
     "output_type": "stream",
     "text": [
      "PyMOL>delete 5o9z\n"
     ]
    },
    {
     "name": "stderr",
     "output_type": "stream",
     "text": [
      "2024-10-04 15:38:17,873 - DEBUG - Processing PDB ID: 8bmx, Chain: C\n",
      "2024-10-04 15:38:17,874 - INFO - Fetched PDB ID: 8bmx\n"
     ]
    },
    {
     "name": "stdout",
     "output_type": "stream",
     "text": [
      "PyMOL>fetch 8bmx, async=0\n",
      "TITLE     Bacteroides thetaiotaomicron B12 TonB dependent transporter in complex with a surface lipoprotein\n",
      " ExecutiveLoad-Detail: Detected mmCIF\n",
      " CmdLoad: \"./8bmx.cif\" loaded as \"8bmx\".\n"
     ]
    },
    {
     "name": "stderr",
     "output_type": "stream",
     "text": [
      "2024-10-04 15:38:22,880 - DEBUG - Removed all chains except Chain C for PDB ID: 8bmx\n"
     ]
    },
    {
     "name": "stdout",
     "output_type": "stream",
     "text": [
      "PyMOL>remove not chain C\n",
      " Remove: eliminated 18522 atoms in model \"8bmx\".\n"
     ]
    },
    {
     "name": "stderr",
     "output_type": "stream",
     "text": [
      "2024-10-04 15:38:27,885 - INFO - Saved Chain C of PDB ID 8bmx to processed_pdbs/8bmxC.pdb\n"
     ]
    },
    {
     "name": "stdout",
     "output_type": "stream",
     "text": [
      "PyMOL>save processed_pdbs/8bmxC.pdb, chain C\n",
      " Save: wrote \"processed_pdbs/8bmxC.pdb\".\n"
     ]
    },
    {
     "name": "stderr",
     "output_type": "stream",
     "text": [
      "2024-10-04 15:38:32,889 - DEBUG - Deleted PDB object 8bmx from PyMOL\n"
     ]
    },
    {
     "name": "stdout",
     "output_type": "stream",
     "text": [
      "PyMOL>delete 8bmx\n"
     ]
    },
    {
     "name": "stderr",
     "output_type": "stream",
     "text": [
      "2024-10-04 15:38:37,891 - DEBUG - Processing PDB ID: 4i9e, Chain: A\n",
      "2024-10-04 15:38:37,892 - INFO - Fetched PDB ID: 4i9e\n"
     ]
    },
    {
     "name": "stdout",
     "output_type": "stream",
     "text": [
      "PyMOL>fetch 4i9e, async=0\n",
      "TITLE     Crystal structure of Aspartyl phosphate phosphatase F from Bacillus subtilis\n",
      " ExecutiveLoad-Detail: Detected mmCIF\n",
      " CmdLoad: \"./4i9e.cif\" loaded as \"4i9e\".\n"
     ]
    },
    {
     "name": "stderr",
     "output_type": "stream",
     "text": [
      "2024-10-04 15:38:42,894 - DEBUG - Removed all chains except Chain A for PDB ID: 4i9e\n"
     ]
    },
    {
     "name": "stdout",
     "output_type": "stream",
     "text": [
      "PyMOL>remove not chain A\n",
      " Remove: eliminated 3454 atoms in model \"4i9e\".\n"
     ]
    },
    {
     "name": "stderr",
     "output_type": "stream",
     "text": [
      "2024-10-04 15:38:47,898 - INFO - Saved Chain A of PDB ID 4i9e to processed_pdbs/4i9eA.pdb\n"
     ]
    },
    {
     "name": "stdout",
     "output_type": "stream",
     "text": [
      "PyMOL>save processed_pdbs/4i9eA.pdb, chain A\n",
      " Save: wrote \"processed_pdbs/4i9eA.pdb\".\n"
     ]
    },
    {
     "name": "stderr",
     "output_type": "stream",
     "text": [
      "2024-10-04 15:38:52,901 - DEBUG - Deleted PDB object 4i9e from PyMOL\n"
     ]
    },
    {
     "name": "stdout",
     "output_type": "stream",
     "text": [
      "PyMOL>delete 4i9e\n"
     ]
    },
    {
     "name": "stderr",
     "output_type": "stream",
     "text": [
      "2024-10-04 15:38:57,905 - DEBUG - Processing PDB ID: 7esx, Chain: A\n",
      "2024-10-04 15:38:57,907 - INFO - Fetched PDB ID: 7esx\n"
     ]
    },
    {
     "name": "stdout",
     "output_type": "stream",
     "text": [
      "PyMOL>fetch 7esx, async=0\n"
     ]
    },
    {
     "name": "stderr",
     "output_type": "stream",
     "text": [
      "2024-10-04 15:39:02,912 - DEBUG - Removed all chains except Chain A for PDB ID: 7esx\n"
     ]
    },
    {
     "name": "stdout",
     "output_type": "stream",
     "text": [
      "PyMOL>remove not chain A\n",
      "TITLE     Crystal structure of Wolbachia cytoplasmic incompatibility factor CidA from wPip\n",
      " ExecutiveLoad-Detail: Detected mmCIF\n",
      " CmdLoad: \"./7esx.cif\" loaded as \"7esx\".\n",
      " Remove: eliminated 3874 atoms in model \"7esx\".\n"
     ]
    },
    {
     "name": "stderr",
     "output_type": "stream",
     "text": [
      "2024-10-04 15:39:07,915 - INFO - Saved Chain A of PDB ID 7esx to processed_pdbs/7esxA.pdb\n"
     ]
    },
    {
     "name": "stdout",
     "output_type": "stream",
     "text": [
      "PyMOL>save processed_pdbs/7esxA.pdb, chain A\n",
      " Save: wrote \"processed_pdbs/7esxA.pdb\".\n"
     ]
    },
    {
     "name": "stderr",
     "output_type": "stream",
     "text": [
      "2024-10-04 15:39:12,919 - DEBUG - Deleted PDB object 7esx from PyMOL\n"
     ]
    },
    {
     "name": "stdout",
     "output_type": "stream",
     "text": [
      "PyMOL>delete 7esx\n"
     ]
    },
    {
     "name": "stderr",
     "output_type": "stream",
     "text": [
      "2024-10-04 15:39:17,922 - DEBUG - Processing PDB ID: 5v4r, Chain: A\n",
      "2024-10-04 15:39:17,923 - INFO - Fetched PDB ID: 5v4r\n"
     ]
    },
    {
     "name": "stdout",
     "output_type": "stream",
     "text": [
      "PyMOL>fetch 5v4r, async=0\n",
      "TITLE     Crystal structure of LARP1-unique domain DM15 bound to m7GTP\n",
      " ExecutiveLoad-Detail: Detected mmCIF\n",
      " CmdLoad: \"./5v4r.cif\" loaded as \"5v4r\".\n"
     ]
    },
    {
     "name": "stderr",
     "output_type": "stream",
     "text": [
      "2024-10-04 15:39:22,930 - DEBUG - Removed all chains except Chain A for PDB ID: 5v4r\n"
     ]
    },
    {
     "name": "stdout",
     "output_type": "stream",
     "text": [
      "PyMOL>remove not chain A\n",
      " Remove: eliminated 1505 atoms in model \"5v4r\".\n"
     ]
    },
    {
     "name": "stderr",
     "output_type": "stream",
     "text": [
      "2024-10-04 15:39:27,933 - INFO - Saved Chain A of PDB ID 5v4r to processed_pdbs/5v4rA.pdb\n"
     ]
    },
    {
     "name": "stdout",
     "output_type": "stream",
     "text": [
      "PyMOL>save processed_pdbs/5v4rA.pdb, chain A\n",
      " Save: wrote \"processed_pdbs/5v4rA.pdb\".\n"
     ]
    },
    {
     "name": "stderr",
     "output_type": "stream",
     "text": [
      "2024-10-04 15:39:32,938 - DEBUG - Deleted PDB object 5v4r from PyMOL\n"
     ]
    },
    {
     "name": "stdout",
     "output_type": "stream",
     "text": [
      "PyMOL>delete 5v4r\n"
     ]
    },
    {
     "name": "stderr",
     "output_type": "stream",
     "text": [
      "2024-10-04 15:39:37,940 - DEBUG - Processing PDB ID: 2o8p, Chain: A\n",
      "2024-10-04 15:39:37,942 - INFO - Fetched PDB ID: 2o8p\n"
     ]
    },
    {
     "name": "stdout",
     "output_type": "stream",
     "text": [
      "PyMOL>fetch 2o8p, async=0\n",
      "TITLE     Crystal structure of a putative 14-3-3 protein from Cryptosporidium parvum, cgd7_2470\n",
      " ExecutiveLoad-Detail: Detected mmCIF\n",
      " CmdLoad: \"./2o8p.cif\" loaded as \"2o8p\".\n"
     ]
    },
    {
     "name": "stderr",
     "output_type": "stream",
     "text": [
      "2024-10-04 15:39:42,947 - DEBUG - Removed all chains except Chain A for PDB ID: 2o8p\n"
     ]
    },
    {
     "name": "stdout",
     "output_type": "stream",
     "text": [
      "PyMOL>remove not chain A\n"
     ]
    },
    {
     "name": "stderr",
     "output_type": "stream",
     "text": [
      "2024-10-04 15:39:47,950 - INFO - Saved Chain A of PDB ID 2o8p to processed_pdbs/2o8pA.pdb\n"
     ]
    },
    {
     "name": "stdout",
     "output_type": "stream",
     "text": [
      "PyMOL>save processed_pdbs/2o8pA.pdb, chain A\n",
      " Save: wrote \"processed_pdbs/2o8pA.pdb\".\n"
     ]
    },
    {
     "name": "stderr",
     "output_type": "stream",
     "text": [
      "2024-10-04 15:39:52,954 - DEBUG - Deleted PDB object 2o8p from PyMOL\n"
     ]
    },
    {
     "name": "stdout",
     "output_type": "stream",
     "text": [
      "PyMOL>delete 2o8p\n"
     ]
    },
    {
     "name": "stderr",
     "output_type": "stream",
     "text": [
      "2024-10-04 15:39:57,960 - DEBUG - Processing PDB ID: 7qe7, Chain: K\n",
      "2024-10-04 15:39:57,963 - INFO - Fetched PDB ID: 7qe7\n"
     ]
    },
    {
     "name": "stdout",
     "output_type": "stream",
     "text": [
      "PyMOL>fetch 7qe7, async=0\n",
      "TITLE     High-resolution structure of the Anaphase-promoting complex/cyclosome (APC/C) bound to co-activator Cdh1\n",
      " ExecutiveLoad-Detail: Detected mmCIF\n",
      " CmdLoad: \"./7qe7.cif\" loaded as \"7qe7\".\n"
     ]
    },
    {
     "name": "stderr",
     "output_type": "stream",
     "text": [
      "2024-10-04 15:40:02,968 - DEBUG - Removed all chains except Chain K for PDB ID: 7qe7\n"
     ]
    },
    {
     "name": "stdout",
     "output_type": "stream",
     "text": [
      "PyMOL>remove not chain K\n",
      " Remove: eliminated 69191 atoms in model \"7qe7\".\n"
     ]
    },
    {
     "name": "stderr",
     "output_type": "stream",
     "text": [
      "2024-10-04 15:40:07,973 - INFO - Saved Chain K of PDB ID 7qe7 to processed_pdbs/7qe7K.pdb\n"
     ]
    },
    {
     "name": "stdout",
     "output_type": "stream",
     "text": [
      "PyMOL>save processed_pdbs/7qe7K.pdb, chain K\n",
      " Save: wrote \"processed_pdbs/7qe7K.pdb\".\n"
     ]
    },
    {
     "name": "stderr",
     "output_type": "stream",
     "text": [
      "2024-10-04 15:40:12,979 - DEBUG - Deleted PDB object 7qe7 from PyMOL\n"
     ]
    },
    {
     "name": "stdout",
     "output_type": "stream",
     "text": [
      "PyMOL>delete 7qe7\n"
     ]
    },
    {
     "name": "stderr",
     "output_type": "stream",
     "text": [
      "2024-10-04 15:40:17,983 - DEBUG - Processing PDB ID: 5y3t, Chain: A\n",
      "2024-10-04 15:40:17,985 - INFO - Fetched PDB ID: 5y3t\n"
     ]
    },
    {
     "name": "stdout",
     "output_type": "stream",
     "text": [
      "PyMOL>fetch 5y3t, async=0\n",
      "TITLE     Crystal structure of hetero-trimeric core of LUBAC: HOIP double-UBA complexed with HOIL-1L UBL and SHARPIN UBL\n",
      " ExecutiveLoad-Detail: Detected mmCIF\n",
      " CmdLoad: \"./5y3t.cif\" loaded as \"5y3t\".\n"
     ]
    },
    {
     "name": "stderr",
     "output_type": "stream",
     "text": [
      "2024-10-04 15:40:22,988 - DEBUG - Removed all chains except Chain A for PDB ID: 5y3t\n"
     ]
    },
    {
     "name": "stdout",
     "output_type": "stream",
     "text": [
      "PyMOL>remove not chain A\n",
      " Remove: eliminated 2324 atoms in model \"5y3t\".\n"
     ]
    },
    {
     "name": "stderr",
     "output_type": "stream",
     "text": [
      "2024-10-04 15:40:27,996 - INFO - Saved Chain A of PDB ID 5y3t to processed_pdbs/5y3tA.pdb\n"
     ]
    },
    {
     "name": "stdout",
     "output_type": "stream",
     "text": [
      "PyMOL>save processed_pdbs/5y3tA.pdb, chain A\n",
      " Save: wrote \"processed_pdbs/5y3tA.pdb\".\n"
     ]
    },
    {
     "name": "stderr",
     "output_type": "stream",
     "text": [
      "2024-10-04 15:40:33,000 - DEBUG - Deleted PDB object 5y3t from PyMOL\n"
     ]
    },
    {
     "name": "stdout",
     "output_type": "stream",
     "text": [
      "PyMOL>delete 5y3t\n"
     ]
    },
    {
     "name": "stderr",
     "output_type": "stream",
     "text": [
      "2024-10-04 15:40:38,003 - DEBUG - Processing PDB ID: 8qt5, Chain: A\n",
      "2024-10-04 15:40:38,004 - INFO - Fetched PDB ID: 8qt5\n"
     ]
    },
    {
     "name": "stdout",
     "output_type": "stream",
     "text": [
      "PyMOL>fetch 8qt5, async=0\n",
      "TITLE     Crystal structure of Arabidopsis thaliana 14-3-3 isoform lambda in complex with a phosphopeptide from the transcription factor BZR1.\n",
      " ExecutiveLoad-Detail: Detected mmCIF\n",
      " CmdLoad: \"./8qt5.cif\" loaded as \"8qt5\".\n"
     ]
    },
    {
     "name": "stderr",
     "output_type": "stream",
     "text": [
      "2024-10-04 15:40:43,006 - DEBUG - Removed all chains except Chain A for PDB ID: 8qt5\n"
     ]
    },
    {
     "name": "stdout",
     "output_type": "stream",
     "text": [
      "PyMOL>remove not chain A\n",
      " Remove: eliminated 23203 atoms in model \"8qt5\".\n"
     ]
    },
    {
     "name": "stderr",
     "output_type": "stream",
     "text": [
      "2024-10-04 15:40:48,012 - INFO - Saved Chain A of PDB ID 8qt5 to processed_pdbs/8qt5A.pdb\n"
     ]
    },
    {
     "name": "stdout",
     "output_type": "stream",
     "text": [
      "PyMOL>save processed_pdbs/8qt5A.pdb, chain A\n",
      " Save: wrote \"processed_pdbs/8qt5A.pdb\".\n"
     ]
    },
    {
     "name": "stderr",
     "output_type": "stream",
     "text": [
      "2024-10-04 15:40:53,013 - DEBUG - Deleted PDB object 8qt5 from PyMOL\n"
     ]
    },
    {
     "name": "stdout",
     "output_type": "stream",
     "text": [
      "PyMOL>delete 8qt5\n"
     ]
    },
    {
     "name": "stderr",
     "output_type": "stream",
     "text": [
      "2024-10-04 15:40:58,019 - DEBUG - Processing PDB ID: 6v7b, Chain: a\n",
      "2024-10-04 15:40:58,020 - INFO - Fetched PDB ID: 6v7b\n"
     ]
    },
    {
     "name": "stdout",
     "output_type": "stream",
     "text": [
      "PyMOL>fetch 6v7b, async=0\n",
      "TITLE     Cryo-EM reconstruction of Pyrobaculum filamentous virus 2 (PFV2)\n",
      " ExecutiveLoad-Detail: Detected mmCIF\n",
      " CmdLoad: \"./6v7b.cif\" loaded as \"6v7b\".\n"
     ]
    },
    {
     "name": "stderr",
     "output_type": "stream",
     "text": [
      "2024-10-04 15:41:03,022 - DEBUG - Removed all chains except Chain a for PDB ID: 6v7b\n"
     ]
    },
    {
     "name": "stdout",
     "output_type": "stream",
     "text": [
      "PyMOL>remove not chain a\n",
      " Remove: eliminated 57941 atoms in model \"6v7b\".\n"
     ]
    },
    {
     "name": "stderr",
     "output_type": "stream",
     "text": [
      "2024-10-04 15:41:08,026 - INFO - Saved Chain a of PDB ID 6v7b to processed_pdbs/6v7ba.pdb\n"
     ]
    },
    {
     "name": "stdout",
     "output_type": "stream",
     "text": [
      "PyMOL>save processed_pdbs/6v7ba.pdb, chain a\n",
      " Save: wrote \"processed_pdbs/6v7ba.pdb\".\n"
     ]
    },
    {
     "name": "stderr",
     "output_type": "stream",
     "text": [
      "2024-10-04 15:41:13,032 - DEBUG - Deleted PDB object 6v7b from PyMOL\n"
     ]
    },
    {
     "name": "stdout",
     "output_type": "stream",
     "text": [
      "PyMOL>delete 6v7b\n"
     ]
    },
    {
     "name": "stderr",
     "output_type": "stream",
     "text": [
      "2024-10-04 15:41:18,036 - DEBUG - Processing PDB ID: 7c0q, Chain: A\n",
      "2024-10-04 15:41:18,037 - INFO - Fetched PDB ID: 7c0q\n"
     ]
    },
    {
     "name": "stdout",
     "output_type": "stream",
     "text": [
      "PyMOL>fetch 7c0q, async=0\n",
      "TITLE     a Legionella pneumophila effector Lpg2505\n",
      " ExecutiveLoad-Detail: Detected mmCIF\n",
      " CmdLoad: \"./7c0q.cif\" loaded as \"7c0q\".\n"
     ]
    },
    {
     "name": "stderr",
     "output_type": "stream",
     "text": [
      "2024-10-04 15:41:23,041 - DEBUG - Removed all chains except Chain A for PDB ID: 7c0q\n"
     ]
    },
    {
     "name": "stdout",
     "output_type": "stream",
     "text": [
      "PyMOL>remove not chain A\n",
      " Remove: eliminated 6931 atoms in model \"7c0q\".\n"
     ]
    },
    {
     "name": "stderr",
     "output_type": "stream",
     "text": [
      "2024-10-04 15:41:28,047 - INFO - Saved Chain A of PDB ID 7c0q to processed_pdbs/7c0qA.pdb\n"
     ]
    },
    {
     "name": "stdout",
     "output_type": "stream",
     "text": [
      "PyMOL>save processed_pdbs/7c0qA.pdb, chain A\n",
      " Save: wrote \"processed_pdbs/7c0qA.pdb\".\n"
     ]
    },
    {
     "name": "stderr",
     "output_type": "stream",
     "text": [
      "2024-10-04 15:41:33,052 - DEBUG - Deleted PDB object 7c0q from PyMOL\n"
     ]
    },
    {
     "name": "stdout",
     "output_type": "stream",
     "text": [
      "PyMOL>delete 7c0q\n"
     ]
    },
    {
     "name": "stderr",
     "output_type": "stream",
     "text": [
      "2024-10-04 15:41:38,057 - DEBUG - Processing PDB ID: 5dbk, Chain: A\n",
      "2024-10-04 15:41:38,059 - INFO - Fetched PDB ID: 5dbk\n"
     ]
    },
    {
     "name": "stdout",
     "output_type": "stream",
     "text": [
      "PyMOL>fetch 5dbk, async=0\n",
      "TITLE     apo form of the quorum sensor NprR from B. thuringiensis\n",
      " ExecutiveLoad-Detail: Detected mmCIF\n",
      " CmdLoad: \"./5dbk.cif\" loaded as \"5dbk\".\n"
     ]
    },
    {
     "name": "stderr",
     "output_type": "stream",
     "text": [
      "2024-10-04 15:41:43,065 - DEBUG - Removed all chains except Chain A for PDB ID: 5dbk\n"
     ]
    },
    {
     "name": "stdout",
     "output_type": "stream",
     "text": [
      "PyMOL>remove not chain A\n",
      " Remove: eliminated 2967 atoms in model \"5dbk\".\n"
     ]
    },
    {
     "name": "stderr",
     "output_type": "stream",
     "text": [
      "2024-10-04 15:41:48,068 - INFO - Saved Chain A of PDB ID 5dbk to processed_pdbs/5dbkA.pdb\n"
     ]
    },
    {
     "name": "stdout",
     "output_type": "stream",
     "text": [
      "PyMOL>save processed_pdbs/5dbkA.pdb, chain A\n",
      " Save: wrote \"processed_pdbs/5dbkA.pdb\".\n"
     ]
    },
    {
     "name": "stderr",
     "output_type": "stream",
     "text": [
      "2024-10-04 15:41:53,069 - DEBUG - Deleted PDB object 5dbk from PyMOL\n"
     ]
    },
    {
     "name": "stdout",
     "output_type": "stream",
     "text": [
      "PyMOL>delete 5dbk\n"
     ]
    },
    {
     "name": "stderr",
     "output_type": "stream",
     "text": [
      "2024-10-04 15:41:58,071 - DEBUG - Processing PDB ID: 4cgu, Chain: A\n",
      "2024-10-04 15:41:58,073 - INFO - Fetched PDB ID: 4cgu\n"
     ]
    },
    {
     "name": "stdout",
     "output_type": "stream",
     "text": [
      "PyMOL>fetch 4cgu, async=0\n",
      "TITLE     Full length Tah1 bound to yeast PIH1 and HSP90 peptide SRMEEVD\n",
      " ExecutiveLoad-Detail: Detected mmCIF\n",
      " CmdLoad: \"./4cgu.cif\" loaded as \"4cgu\".\n"
     ]
    },
    {
     "name": "stderr",
     "output_type": "stream",
     "text": [
      "2024-10-04 15:42:03,076 - DEBUG - Removed all chains except Chain A for PDB ID: 4cgu\n"
     ]
    },
    {
     "name": "stdout",
     "output_type": "stream",
     "text": [
      "PyMOL>remove not chain A\n",
      " Remove: eliminated 833 atoms in model \"4cgu\".\n"
     ]
    },
    {
     "name": "stderr",
     "output_type": "stream",
     "text": [
      "2024-10-04 15:42:08,082 - INFO - Saved Chain A of PDB ID 4cgu to processed_pdbs/4cguA.pdb\n"
     ]
    },
    {
     "name": "stdout",
     "output_type": "stream",
     "text": [
      "PyMOL>save processed_pdbs/4cguA.pdb, chain A\n",
      " Save: wrote \"processed_pdbs/4cguA.pdb\".\n"
     ]
    },
    {
     "name": "stderr",
     "output_type": "stream",
     "text": [
      "2024-10-04 15:42:13,086 - DEBUG - Deleted PDB object 4cgu from PyMOL\n"
     ]
    },
    {
     "name": "stdout",
     "output_type": "stream",
     "text": [
      "PyMOL>delete 4cgu\n"
     ]
    },
    {
     "name": "stderr",
     "output_type": "stream",
     "text": [
      "2024-10-04 15:42:18,091 - DEBUG - Processing PDB ID: 2qeu, Chain: B\n",
      "2024-10-04 15:42:18,091 - INFO - Fetched PDB ID: 2qeu\n"
     ]
    },
    {
     "name": "stdout",
     "output_type": "stream",
     "text": [
      "PyMOL>fetch 2qeu, async=0\n",
      "TITLE     Crystal structure of putative carboxymuconolactone decarboxylase (YP_555818.1) from Burkholderia xenovorans LB400 at 1.65 A resolution\n",
      " ExecutiveLoad-Detail: Detected mmCIF\n",
      " CmdLoad: \"./2qeu.cif\" loaded as \"2qeu\".\n"
     ]
    },
    {
     "name": "stderr",
     "output_type": "stream",
     "text": [
      "2024-10-04 15:42:23,095 - DEBUG - Removed all chains except Chain B for PDB ID: 2qeu\n"
     ]
    },
    {
     "name": "stdout",
     "output_type": "stream",
     "text": [
      "PyMOL>remove not chain B\n",
      " Remove: eliminated 2553 atoms in model \"2qeu\".\n"
     ]
    },
    {
     "name": "stderr",
     "output_type": "stream",
     "text": [
      "2024-10-04 15:42:28,097 - INFO - Saved Chain B of PDB ID 2qeu to processed_pdbs/2qeuB.pdb\n"
     ]
    },
    {
     "name": "stdout",
     "output_type": "stream",
     "text": [
      "PyMOL>save processed_pdbs/2qeuB.pdb, chain B\n",
      " Save: wrote \"processed_pdbs/2qeuB.pdb\".\n"
     ]
    },
    {
     "name": "stderr",
     "output_type": "stream",
     "text": [
      "2024-10-04 15:42:33,103 - DEBUG - Deleted PDB object 2qeu from PyMOL\n"
     ]
    },
    {
     "name": "stdout",
     "output_type": "stream",
     "text": [
      "PyMOL>delete 2qeu\n"
     ]
    },
    {
     "name": "stderr",
     "output_type": "stream",
     "text": [
      "2024-10-04 15:42:38,105 - DEBUG - Processing PDB ID: 5xw7, Chain: C\n",
      "2024-10-04 15:42:38,105 - INFO - Fetched PDB ID: 5xw7\n"
     ]
    },
    {
     "name": "stdout",
     "output_type": "stream",
     "text": [
      "PyMOL>fetch 5xw7, async=0\n",
      "TITLE     Crystal structure of the flexible tandem repeat domain of bacterial cellulose synthase subunit C\n",
      " ExecutiveLoad-Detail: Detected mmCIF\n",
      " CmdLoad: \"./5xw7.cif\" loaded as \"5xw7\".\n"
     ]
    },
    {
     "name": "stderr",
     "output_type": "stream",
     "text": [
      "2024-10-04 15:42:43,110 - DEBUG - Removed all chains except Chain C for PDB ID: 5xw7\n"
     ]
    },
    {
     "name": "stdout",
     "output_type": "stream",
     "text": [
      "PyMOL>remove not chain C\n",
      " Remove: eliminated 7009 atoms in model \"5xw7\".\n"
     ]
    },
    {
     "name": "stderr",
     "output_type": "stream",
     "text": [
      "2024-10-04 15:42:48,116 - INFO - Saved Chain C of PDB ID 5xw7 to processed_pdbs/5xw7C.pdb\n"
     ]
    },
    {
     "name": "stdout",
     "output_type": "stream",
     "text": [
      "PyMOL>save processed_pdbs/5xw7C.pdb, chain C\n",
      " Save: wrote \"processed_pdbs/5xw7C.pdb\".\n"
     ]
    },
    {
     "name": "stderr",
     "output_type": "stream",
     "text": [
      "2024-10-04 15:42:53,121 - DEBUG - Deleted PDB object 5xw7 from PyMOL\n"
     ]
    },
    {
     "name": "stdout",
     "output_type": "stream",
     "text": [
      "PyMOL>delete 5xw7\n"
     ]
    },
    {
     "name": "stderr",
     "output_type": "stream",
     "text": [
      "2024-10-04 15:42:58,127 - DEBUG - Processing PDB ID: 7zhm, Chain: C\n",
      "2024-10-04 15:42:58,128 - INFO - Fetched PDB ID: 7zhm\n"
     ]
    },
    {
     "name": "stdout",
     "output_type": "stream",
     "text": [
      "PyMOL>fetch 7zhm, async=0\n",
      "TITLE     Salmonella enterica Rhs1 C-terminal toxin TreTu complex with TriTu immunity protein\n",
      " ExecutiveLoad-Detail: Detected mmCIF\n",
      " CmdLoad: \"./7zhm.cif\" loaded as \"7zhm\".\n"
     ]
    },
    {
     "name": "stderr",
     "output_type": "stream",
     "text": [
      "2024-10-04 15:43:03,132 - DEBUG - Removed all chains except Chain C for PDB ID: 7zhm\n"
     ]
    },
    {
     "name": "stdout",
     "output_type": "stream",
     "text": [
      "PyMOL>remove not chain C\n",
      " Remove: eliminated 2630 atoms in model \"7zhm\".\n"
     ]
    },
    {
     "name": "stderr",
     "output_type": "stream",
     "text": [
      "2024-10-04 15:43:08,135 - INFO - Saved Chain C of PDB ID 7zhm to processed_pdbs/7zhmC.pdb\n"
     ]
    },
    {
     "name": "stdout",
     "output_type": "stream",
     "text": [
      "PyMOL>save processed_pdbs/7zhmC.pdb, chain C\n",
      " Save: wrote \"processed_pdbs/7zhmC.pdb\".\n"
     ]
    },
    {
     "name": "stderr",
     "output_type": "stream",
     "text": [
      "2024-10-04 15:43:13,137 - DEBUG - Deleted PDB object 7zhm from PyMOL\n"
     ]
    },
    {
     "name": "stdout",
     "output_type": "stream",
     "text": [
      "PyMOL>delete 7zhm\n"
     ]
    },
    {
     "name": "stderr",
     "output_type": "stream",
     "text": [
      "2024-10-04 15:43:18,139 - DEBUG - Processing PDB ID: 6swu, Chain: A\n",
      "2024-10-04 15:43:18,140 - INFO - Fetched PDB ID: 6swu\n"
     ]
    },
    {
     "name": "stdout",
     "output_type": "stream",
     "text": [
      "PyMOL>fetch 6swu, async=0\n"
     ]
    },
    {
     "name": "stderr",
     "output_type": "stream",
     "text": [
      "2024-10-04 15:43:23,144 - DEBUG - Removed all chains except Chain A for PDB ID: 6swu\n"
     ]
    },
    {
     "name": "stdout",
     "output_type": "stream",
     "text": [
      "PyMOL>remove not chain A\n"
     ]
    },
    {
     "name": "stderr",
     "output_type": "stream",
     "text": [
      "2024-10-04 15:43:28,146 - INFO - Saved Chain A of PDB ID 6swu to processed_pdbs/6swuA.pdb\n"
     ]
    },
    {
     "name": "stdout",
     "output_type": "stream",
     "text": [
      "PyMOL>save processed_pdbs/6swuA.pdb, chain A\n",
      "TITLE     Crystal structure of the TPR domain of KLC1 in complex with an engineered high-affinity cargo peptide.\n",
      " ExecutiveLoad-Detail: Detected mmCIF\n",
      " CmdLoad: \"./6swu.cif\" loaded as \"6swu\".\n",
      " Remove: eliminated 23287 atoms in model \"6swu\".\n",
      " Save: wrote \"processed_pdbs/6swuA.pdb\".\n"
     ]
    },
    {
     "name": "stderr",
     "output_type": "stream",
     "text": [
      "2024-10-04 15:43:33,150 - DEBUG - Deleted PDB object 6swu from PyMOL\n"
     ]
    },
    {
     "name": "stdout",
     "output_type": "stream",
     "text": [
      "PyMOL>delete 6swu\n"
     ]
    },
    {
     "name": "stderr",
     "output_type": "stream",
     "text": [
      "2024-10-04 15:43:38,157 - DEBUG - Processing PDB ID: 6swy, Chain: 9\n",
      "2024-10-04 15:43:38,158 - INFO - Fetched PDB ID: 6swy\n"
     ]
    },
    {
     "name": "stdout",
     "output_type": "stream",
     "text": [
      "PyMOL>fetch 6swy, async=0\n",
      "TITLE     Structure of active GID E3 ubiquitin ligase complex minus Gid2 and delta Gid9 RING domain\n",
      " ExecutiveLoad-Detail: Detected mmCIF\n",
      " Downloading https://files.rcsb.org/ligands/download/UNK.cif\n",
      "  ->./UNK.cif\n",
      " CmdLoad: \"./6swy.cif\" loaded as \"6swy\".\n"
     ]
    },
    {
     "name": "stderr",
     "output_type": "stream",
     "text": [
      "2024-10-04 15:43:43,159 - DEBUG - Removed all chains except Chain 9 for PDB ID: 6swy\n"
     ]
    },
    {
     "name": "stdout",
     "output_type": "stream",
     "text": [
      "PyMOL>remove not chain 9\n",
      " Remove: eliminated 15849 atoms in model \"6swy\".\n"
     ]
    },
    {
     "name": "stderr",
     "output_type": "stream",
     "text": [
      "2024-10-04 15:43:48,165 - INFO - Saved Chain 9 of PDB ID 6swy to processed_pdbs/6swy9.pdb\n"
     ]
    },
    {
     "name": "stdout",
     "output_type": "stream",
     "text": [
      "PyMOL>save processed_pdbs/6swy9.pdb, chain 9\n",
      " Save: wrote \"processed_pdbs/6swy9.pdb\".\n"
     ]
    },
    {
     "name": "stderr",
     "output_type": "stream",
     "text": [
      "2024-10-04 15:43:53,167 - DEBUG - Deleted PDB object 6swy from PyMOL\n"
     ]
    },
    {
     "name": "stdout",
     "output_type": "stream",
     "text": [
      "PyMOL>delete 6swy\n"
     ]
    },
    {
     "name": "stderr",
     "output_type": "stream",
     "text": [
      "2024-10-04 15:43:58,170 - DEBUG - Processing PDB ID: 6h02, Chain: A\n",
      "2024-10-04 15:43:58,171 - INFO - Fetched PDB ID: 6h02\n"
     ]
    },
    {
     "name": "stdout",
     "output_type": "stream",
     "text": [
      "PyMOL>fetch 6h02, async=0\n",
      "TITLE     Crystal structure of human Mediator subunit MED23\n",
      " ExecutiveLoad-Detail: Detected mmCIF\n",
      " CmdLoad: \"./6h02.cif\" loaded as \"6h02\".\n"
     ]
    },
    {
     "name": "stderr",
     "output_type": "stream",
     "text": [
      "2024-10-04 15:44:03,173 - DEBUG - Removed all chains except Chain A for PDB ID: 6h02\n"
     ]
    },
    {
     "name": "stdout",
     "output_type": "stream",
     "text": [
      "PyMOL>remove not chain A\n",
      " Remove: eliminated 951 atoms in model \"6h02\".\n"
     ]
    },
    {
     "name": "stderr",
     "output_type": "stream",
     "text": [
      "2024-10-04 15:44:08,179 - INFO - Saved Chain A of PDB ID 6h02 to processed_pdbs/6h02A.pdb\n"
     ]
    },
    {
     "name": "stdout",
     "output_type": "stream",
     "text": [
      "PyMOL>save processed_pdbs/6h02A.pdb, chain A\n",
      " Save: wrote \"processed_pdbs/6h02A.pdb\".\n"
     ]
    },
    {
     "name": "stderr",
     "output_type": "stream",
     "text": [
      "2024-10-04 15:44:13,182 - DEBUG - Deleted PDB object 6h02 from PyMOL\n"
     ]
    },
    {
     "name": "stdout",
     "output_type": "stream",
     "text": [
      "PyMOL>delete 6h02\n"
     ]
    },
    {
     "name": "stderr",
     "output_type": "stream",
     "text": [
      "2024-10-04 15:44:18,188 - DEBUG - Processing PDB ID: 8sxf, Chain: C\n",
      "2024-10-04 15:44:18,189 - INFO - Fetched PDB ID: 8sxf\n"
     ]
    },
    {
     "name": "stdout",
     "output_type": "stream",
     "text": [
      "PyMOL>fetch 8sxf, async=0\n",
      "TITLE     The C-terminal protease CtpA-LbcA complex of pseudomonas aeruginosa with the TPR at the high position\n",
      " ExecutiveLoad-Detail: Detected mmCIF\n",
      " CmdLoad: \"./8sxf.cif\" loaded as \"8sxf\".\n"
     ]
    },
    {
     "name": "stderr",
     "output_type": "stream",
     "text": [
      "2024-10-04 15:44:23,193 - DEBUG - Removed all chains except Chain C for PDB ID: 8sxf\n"
     ]
    },
    {
     "name": "stdout",
     "output_type": "stream",
     "text": [
      "PyMOL>remove not chain C\n",
      " Remove: eliminated 7343 atoms in model \"8sxf\".\n"
     ]
    },
    {
     "name": "stderr",
     "output_type": "stream",
     "text": [
      "2024-10-04 15:44:28,199 - INFO - Saved Chain C of PDB ID 8sxf to processed_pdbs/8sxfC.pdb\n"
     ]
    },
    {
     "name": "stdout",
     "output_type": "stream",
     "text": [
      "PyMOL>save processed_pdbs/8sxfC.pdb, chain C\n",
      " Save: wrote \"processed_pdbs/8sxfC.pdb\".\n"
     ]
    },
    {
     "name": "stderr",
     "output_type": "stream",
     "text": [
      "2024-10-04 15:44:33,202 - DEBUG - Deleted PDB object 8sxf from PyMOL\n"
     ]
    },
    {
     "name": "stdout",
     "output_type": "stream",
     "text": [
      "PyMOL>delete 8sxf\n"
     ]
    },
    {
     "name": "stderr",
     "output_type": "stream",
     "text": [
      "2024-10-04 15:44:38,207 - DEBUG - Processing PDB ID: 6vu8, Chain: A\n",
      "2024-10-04 15:44:38,208 - INFO - Fetched PDB ID: 6vu8\n"
     ]
    },
    {
     "name": "stdout",
     "output_type": "stream",
     "text": [
      "PyMOL>fetch 6vu8, async=0\n",
      "TITLE     Structure of G-alpha-i bound to its chaperone Ric-8A\n",
      " ExecutiveLoad-Detail: Detected mmCIF\n",
      " CmdLoad: \"./6vu8.cif\" loaded as \"6vu8\".\n"
     ]
    },
    {
     "name": "stderr",
     "output_type": "stream",
     "text": [
      "2024-10-04 15:44:43,213 - DEBUG - Removed all chains except Chain A for PDB ID: 6vu8\n"
     ]
    },
    {
     "name": "stdout",
     "output_type": "stream",
     "text": [
      "PyMOL>remove not chain A\n",
      " Remove: eliminated 1603 atoms in model \"6vu8\".\n"
     ]
    },
    {
     "name": "stderr",
     "output_type": "stream",
     "text": [
      "2024-10-04 15:44:48,216 - INFO - Saved Chain A of PDB ID 6vu8 to processed_pdbs/6vu8A.pdb\n"
     ]
    },
    {
     "name": "stdout",
     "output_type": "stream",
     "text": [
      "PyMOL>save processed_pdbs/6vu8A.pdb, chain A\n",
      " Save: wrote \"processed_pdbs/6vu8A.pdb\".\n"
     ]
    },
    {
     "name": "stderr",
     "output_type": "stream",
     "text": [
      "2024-10-04 15:44:53,222 - DEBUG - Deleted PDB object 6vu8 from PyMOL\n"
     ]
    },
    {
     "name": "stdout",
     "output_type": "stream",
     "text": [
      "PyMOL>delete 6vu8\n"
     ]
    },
    {
     "name": "stderr",
     "output_type": "stream",
     "text": [
      "2024-10-04 15:44:58,227 - DEBUG - Processing PDB ID: 7naz, Chain: A\n",
      "2024-10-04 15:44:58,228 - INFO - Fetched PDB ID: 7naz\n"
     ]
    },
    {
     "name": "stdout",
     "output_type": "stream",
     "text": [
      "PyMOL>fetch 7naz, async=0\n",
      "TITLE     TPR-rich domain of EccA3 from M. smegmatis\n",
      " ExecutiveLoad-Detail: Detected mmCIF\n",
      " CmdLoad: \"./7naz.cif\" loaded as \"7naz\".\n"
     ]
    },
    {
     "name": "stderr",
     "output_type": "stream",
     "text": [
      "2024-10-04 15:45:03,232 - DEBUG - Removed all chains except Chain A for PDB ID: 7naz\n"
     ]
    },
    {
     "name": "stdout",
     "output_type": "stream",
     "text": [
      "PyMOL>remove not chain A\n"
     ]
    },
    {
     "name": "stderr",
     "output_type": "stream",
     "text": [
      "2024-10-04 15:45:08,237 - INFO - Saved Chain A of PDB ID 7naz to processed_pdbs/7nazA.pdb\n"
     ]
    },
    {
     "name": "stdout",
     "output_type": "stream",
     "text": [
      "PyMOL>save processed_pdbs/7nazA.pdb, chain A\n",
      " Save: wrote \"processed_pdbs/7nazA.pdb\".\n"
     ]
    },
    {
     "name": "stderr",
     "output_type": "stream",
     "text": [
      "2024-10-04 15:45:13,242 - DEBUG - Deleted PDB object 7naz from PyMOL\n"
     ]
    },
    {
     "name": "stdout",
     "output_type": "stream",
     "text": [
      "PyMOL>delete 7naz\n"
     ]
    },
    {
     "name": "stderr",
     "output_type": "stream",
     "text": [
      "2024-10-04 15:45:18,247 - DEBUG - Processing PDB ID: 5cwd, Chain: A\n",
      "2024-10-04 15:45:18,248 - INFO - Fetched PDB ID: 5cwd\n"
     ]
    },
    {
     "name": "stdout",
     "output_type": "stream",
     "text": [
      "PyMOL>fetch 5cwd, async=0\n",
      "TITLE     Crystal structure of de novo designed helical repeat protein DHR7\n",
      " ExecutiveLoad-Detail: Detected mmCIF\n",
      " CmdLoad: \"./5cwd.cif\" loaded as \"5cwd\".\n"
     ]
    },
    {
     "name": "stderr",
     "output_type": "stream",
     "text": [
      "2024-10-04 15:45:23,252 - DEBUG - Removed all chains except Chain A for PDB ID: 5cwd\n"
     ]
    },
    {
     "name": "stdout",
     "output_type": "stream",
     "text": [
      "PyMOL>remove not chain A\n"
     ]
    },
    {
     "name": "stderr",
     "output_type": "stream",
     "text": [
      "2024-10-04 15:45:28,257 - INFO - Saved Chain A of PDB ID 5cwd to processed_pdbs/5cwdA.pdb\n"
     ]
    },
    {
     "name": "stdout",
     "output_type": "stream",
     "text": [
      "PyMOL>save processed_pdbs/5cwdA.pdb, chain A\n",
      " Save: wrote \"processed_pdbs/5cwdA.pdb\".\n"
     ]
    },
    {
     "name": "stderr",
     "output_type": "stream",
     "text": [
      "2024-10-04 15:45:33,264 - DEBUG - Deleted PDB object 5cwd from PyMOL\n"
     ]
    },
    {
     "name": "stdout",
     "output_type": "stream",
     "text": [
      "PyMOL>delete 5cwd\n"
     ]
    },
    {
     "name": "stderr",
     "output_type": "stream",
     "text": [
      "2024-10-04 15:45:38,267 - DEBUG - Processing PDB ID: 5tqb, Chain: B\n",
      "2024-10-04 15:45:38,270 - INFO - Fetched PDB ID: 5tqb\n"
     ]
    },
    {
     "name": "stdout",
     "output_type": "stream",
     "text": [
      "PyMOL>fetch 5tqb, async=0\n",
      "TITLE     Crystal structure of assembly chaperone of ribosomal protein L4 (Acl4) in complex with ribosomal protein L4 (RpL4)\n",
      " ExecutiveLoad-Detail: Detected mmCIF\n",
      " CmdLoad: \"./5tqb.cif\" loaded as \"5tqb\".\n"
     ]
    },
    {
     "name": "stderr",
     "output_type": "stream",
     "text": [
      "2024-10-04 15:45:43,279 - DEBUG - Removed all chains except Chain B for PDB ID: 5tqb\n"
     ]
    },
    {
     "name": "stdout",
     "output_type": "stream",
     "text": [
      "PyMOL>remove not chain B\n",
      " Remove: eliminated 3832 atoms in model \"5tqb\".\n"
     ]
    },
    {
     "name": "stderr",
     "output_type": "stream",
     "text": [
      "2024-10-04 15:45:48,286 - INFO - Saved Chain B of PDB ID 5tqb to processed_pdbs/5tqbB.pdb\n"
     ]
    },
    {
     "name": "stdout",
     "output_type": "stream",
     "text": [
      "PyMOL>save processed_pdbs/5tqbB.pdb, chain B\n",
      " Save: wrote \"processed_pdbs/5tqbB.pdb\".\n"
     ]
    },
    {
     "name": "stderr",
     "output_type": "stream",
     "text": [
      "2024-10-04 15:45:53,288 - DEBUG - Deleted PDB object 5tqb from PyMOL\n"
     ]
    },
    {
     "name": "stdout",
     "output_type": "stream",
     "text": [
      "PyMOL>delete 5tqb\n"
     ]
    },
    {
     "name": "stderr",
     "output_type": "stream",
     "text": [
      "2024-10-04 15:45:58,291 - DEBUG - Processing PDB ID: 6igx, Chain: D\n",
      "2024-10-04 15:45:58,292 - INFO - Fetched PDB ID: 6igx\n"
     ]
    },
    {
     "name": "stdout",
     "output_type": "stream",
     "text": [
      "PyMOL>fetch 6igx, async=0\n",
      "TITLE     Crystal structure of human CAP-G in complex with CAP-H\n",
      " ExecutiveLoad-Detail: Detected mmCIF\n",
      " CmdLoad: \"./6igx.cif\" loaded as \"6igx\".\n"
     ]
    },
    {
     "name": "stderr",
     "output_type": "stream",
     "text": [
      "2024-10-04 15:46:03,297 - DEBUG - Removed all chains except Chain D for PDB ID: 6igx\n"
     ]
    },
    {
     "name": "stdout",
     "output_type": "stream",
     "text": [
      "PyMOL>remove not chain D\n",
      " Remove: eliminated 6702 atoms in model \"6igx\".\n"
     ]
    },
    {
     "name": "stderr",
     "output_type": "stream",
     "text": [
      "2024-10-04 15:46:08,300 - INFO - Saved Chain D of PDB ID 6igx to processed_pdbs/6igxD.pdb\n"
     ]
    },
    {
     "name": "stdout",
     "output_type": "stream",
     "text": [
      "PyMOL>save processed_pdbs/6igxD.pdb, chain D\n",
      " Save: wrote \"processed_pdbs/6igxD.pdb\".\n"
     ]
    },
    {
     "name": "stderr",
     "output_type": "stream",
     "text": [
      "2024-10-04 15:46:13,302 - DEBUG - Deleted PDB object 6igx from PyMOL\n"
     ]
    },
    {
     "name": "stdout",
     "output_type": "stream",
     "text": [
      "PyMOL>delete 6igx\n"
     ]
    },
    {
     "name": "stderr",
     "output_type": "stream",
     "text": [
      "2024-10-04 15:46:18,307 - DEBUG - Processing PDB ID: 3sz7, Chain: A\n",
      "2024-10-04 15:46:18,308 - INFO - Fetched PDB ID: 3sz7\n"
     ]
    },
    {
     "name": "stdout",
     "output_type": "stream",
     "text": [
      "PyMOL>fetch 3sz7, async=0\n",
      "TITLE     Crystal structure of the Sgt2 TPR domain from Aspergillus fumigatus\n",
      " ExecutiveLoad-Detail: Detected mmCIF\n",
      " CmdLoad: \"./3sz7.cif\" loaded as \"3sz7\".\n"
     ]
    },
    {
     "name": "stderr",
     "output_type": "stream",
     "text": [
      "2024-10-04 15:46:23,317 - DEBUG - Removed all chains except Chain A for PDB ID: 3sz7\n"
     ]
    },
    {
     "name": "stdout",
     "output_type": "stream",
     "text": [
      "PyMOL>remove not chain A\n"
     ]
    },
    {
     "name": "stderr",
     "output_type": "stream",
     "text": [
      "2024-10-04 15:46:28,324 - INFO - Saved Chain A of PDB ID 3sz7 to processed_pdbs/3sz7A.pdb\n"
     ]
    },
    {
     "name": "stdout",
     "output_type": "stream",
     "text": [
      "PyMOL>save processed_pdbs/3sz7A.pdb, chain A\n",
      " Save: wrote \"processed_pdbs/3sz7A.pdb\".\n"
     ]
    },
    {
     "name": "stderr",
     "output_type": "stream",
     "text": [
      "2024-10-04 15:46:33,327 - DEBUG - Deleted PDB object 3sz7 from PyMOL\n"
     ]
    },
    {
     "name": "stdout",
     "output_type": "stream",
     "text": [
      "PyMOL>delete 3sz7\n"
     ]
    },
    {
     "name": "stderr",
     "output_type": "stream",
     "text": [
      "2024-10-04 15:46:38,332 - DEBUG - Processing PDB ID: 5dn7, Chain: A\n",
      "2024-10-04 15:46:38,334 - INFO - Fetched PDB ID: 5dn7\n"
     ]
    },
    {
     "name": "stdout",
     "output_type": "stream",
     "text": [
      "PyMOL>fetch 5dn7, async=0\n",
      "TITLE     Crescerin uses a TOG domain array to regulate microtubules in the primary cilium\n",
      " ExecutiveLoad-Detail: Detected mmCIF\n",
      " CmdLoad: \"./5dn7.cif\" loaded as \"5dn7\".\n"
     ]
    },
    {
     "name": "stderr",
     "output_type": "stream",
     "text": [
      "2024-10-04 15:46:43,335 - DEBUG - Removed all chains except Chain A for PDB ID: 5dn7\n"
     ]
    },
    {
     "name": "stdout",
     "output_type": "stream",
     "text": [
      "PyMOL>remove not chain A\n"
     ]
    },
    {
     "name": "stderr",
     "output_type": "stream",
     "text": [
      "2024-10-04 15:46:48,338 - INFO - Saved Chain A of PDB ID 5dn7 to processed_pdbs/5dn7A.pdb\n"
     ]
    },
    {
     "name": "stdout",
     "output_type": "stream",
     "text": [
      "PyMOL>save processed_pdbs/5dn7A.pdb, chain A\n",
      " Save: wrote \"processed_pdbs/5dn7A.pdb\".\n"
     ]
    },
    {
     "name": "stderr",
     "output_type": "stream",
     "text": [
      "2024-10-04 15:46:53,343 - DEBUG - Deleted PDB object 5dn7 from PyMOL\n"
     ]
    },
    {
     "name": "stdout",
     "output_type": "stream",
     "text": [
      "PyMOL>delete 5dn7\n"
     ]
    },
    {
     "name": "stderr",
     "output_type": "stream",
     "text": [
      "2024-10-04 15:46:58,347 - DEBUG - Processing PDB ID: 5fu7, Chain: A\n",
      "2024-10-04 15:46:58,348 - INFO - Fetched PDB ID: 5fu7\n"
     ]
    },
    {
     "name": "stdout",
     "output_type": "stream",
     "text": [
      "PyMOL>fetch 5fu7, async=0\n",
      "TITLE     drosophila nanos NBR peptide bound to the NOT module of the human CCR4-NOT complex\n",
      " ExecutiveLoad-Detail: Detected mmCIF\n",
      " CmdLoad: \"./5fu7.cif\" loaded as \"5fu7\".\n"
     ]
    },
    {
     "name": "stderr",
     "output_type": "stream",
     "text": [
      "2024-10-04 15:47:03,349 - DEBUG - Removed all chains except Chain A for PDB ID: 5fu7\n"
     ]
    },
    {
     "name": "stdout",
     "output_type": "stream",
     "text": [
      "PyMOL>remove not chain A\n",
      " Remove: eliminated 10413 atoms in model \"5fu7\".\n"
     ]
    },
    {
     "name": "stderr",
     "output_type": "stream",
     "text": [
      "2024-10-04 15:47:08,352 - INFO - Saved Chain A of PDB ID 5fu7 to processed_pdbs/5fu7A.pdb\n"
     ]
    },
    {
     "name": "stdout",
     "output_type": "stream",
     "text": [
      "PyMOL>save processed_pdbs/5fu7A.pdb, chain A\n",
      " Save: wrote \"processed_pdbs/5fu7A.pdb\".\n"
     ]
    },
    {
     "name": "stderr",
     "output_type": "stream",
     "text": [
      "2024-10-04 15:47:13,356 - DEBUG - Deleted PDB object 5fu7 from PyMOL\n"
     ]
    },
    {
     "name": "stdout",
     "output_type": "stream",
     "text": [
      "PyMOL>delete 5fu7\n"
     ]
    },
    {
     "name": "stderr",
     "output_type": "stream",
     "text": [
      "2024-10-04 15:47:18,363 - DEBUG - Processing PDB ID: 6hd5, Chain: t\n",
      "2024-10-04 15:47:18,365 - INFO - Fetched PDB ID: 6hd5\n"
     ]
    },
    {
     "name": "stdout",
     "output_type": "stream",
     "text": [
      "PyMOL>fetch 6hd5, async=0\n"
     ]
    },
    {
     "name": "stderr",
     "output_type": "stream",
     "text": [
      "2024-10-04 15:47:23,367 - DEBUG - Removed all chains except Chain t for PDB ID: 6hd5\n"
     ]
    },
    {
     "name": "stdout",
     "output_type": "stream",
     "text": [
      "PyMOL>remove not chain t\n",
      "TITLE     Cryo-EM structure of the ribosome-NatA complex\n",
      " ExecutiveLoad-Detail: Detected mmCIF\n",
      " CmdLoad: \"./6hd5.cif\" loaded as \"6hd5\".\n",
      " Remove: eliminated 3075 atoms in model \"6hd5\".\n"
     ]
    },
    {
     "name": "stderr",
     "output_type": "stream",
     "text": [
      "2024-10-04 15:47:28,373 - INFO - Saved Chain t of PDB ID 6hd5 to processed_pdbs/6hd5t.pdb\n"
     ]
    },
    {
     "name": "stdout",
     "output_type": "stream",
     "text": [
      "PyMOL>save processed_pdbs/6hd5t.pdb, chain t\n",
      " Save: wrote \"processed_pdbs/6hd5t.pdb\".\n"
     ]
    },
    {
     "name": "stderr",
     "output_type": "stream",
     "text": [
      "2024-10-04 15:47:33,378 - DEBUG - Deleted PDB object 6hd5 from PyMOL\n"
     ]
    },
    {
     "name": "stdout",
     "output_type": "stream",
     "text": [
      "PyMOL>delete 6hd5\n"
     ]
    },
    {
     "name": "stderr",
     "output_type": "stream",
     "text": [
      "2024-10-04 15:47:38,381 - DEBUG - Processing PDB ID: 4cr2, Chain: T\n",
      "2024-10-04 15:47:38,382 - INFO - Fetched PDB ID: 4cr2\n"
     ]
    },
    {
     "name": "stdout",
     "output_type": "stream",
     "text": [
      "PyMOL>fetch 4cr2, async=0\n",
      "TITLE     Deep classification of a large cryo-EM dataset defines the conformational landscape of the 26S proteasome\n",
      " ExecutiveLoad-Detail: Detected mmCIF\n",
      " CmdLoad: \"./4cr2.cif\" loaded as \"4cr2\".\n"
     ]
    },
    {
     "name": "stderr",
     "output_type": "stream",
     "text": [
      "2024-10-04 15:47:43,383 - DEBUG - Removed all chains except Chain T for PDB ID: 4cr2\n"
     ]
    },
    {
     "name": "stdout",
     "output_type": "stream",
     "text": [
      "PyMOL>remove not chain T\n",
      " Remove: eliminated 79406 atoms in model \"4cr2\".\n"
     ]
    },
    {
     "name": "stderr",
     "output_type": "stream",
     "text": [
      "2024-10-04 15:47:48,386 - INFO - Saved Chain T of PDB ID 4cr2 to processed_pdbs/4cr2T.pdb\n"
     ]
    },
    {
     "name": "stdout",
     "output_type": "stream",
     "text": [
      "PyMOL>save processed_pdbs/4cr2T.pdb, chain T\n",
      " Save: wrote \"processed_pdbs/4cr2T.pdb\".\n"
     ]
    },
    {
     "name": "stderr",
     "output_type": "stream",
     "text": [
      "2024-10-04 15:47:53,392 - DEBUG - Deleted PDB object 4cr2 from PyMOL\n"
     ]
    },
    {
     "name": "stdout",
     "output_type": "stream",
     "text": [
      "PyMOL>delete 4cr2\n"
     ]
    },
    {
     "name": "stderr",
     "output_type": "stream",
     "text": [
      "2024-10-04 15:47:58,394 - DEBUG - Processing PDB ID: 5i9d, Chain: A\n",
      "2024-10-04 15:47:58,396 - INFO - Fetched PDB ID: 5i9d\n"
     ]
    },
    {
     "name": "stdout",
     "output_type": "stream",
     "text": [
      "PyMOL>fetch 5i9d, async=0\n",
      "TITLE     Crystal structure of designed pentatricopeptide repeat protein dPPR-U8A2 in complex with its target RNA U8A2\n",
      " ExecutiveLoad-Detail: Detected mmCIF\n",
      " CmdLoad: \"./5i9d.cif\" loaded as \"5i9d\".\n"
     ]
    },
    {
     "name": "stderr",
     "output_type": "stream",
     "text": [
      "2024-10-04 15:48:03,402 - DEBUG - Removed all chains except Chain A for PDB ID: 5i9d\n"
     ]
    },
    {
     "name": "stdout",
     "output_type": "stream",
     "text": [
      "PyMOL>remove not chain A\n",
      " Remove: eliminated 204 atoms in model \"5i9d\".\n"
     ]
    },
    {
     "name": "stderr",
     "output_type": "stream",
     "text": [
      "2024-10-04 15:48:08,404 - INFO - Saved Chain A of PDB ID 5i9d to processed_pdbs/5i9dA.pdb\n"
     ]
    },
    {
     "name": "stdout",
     "output_type": "stream",
     "text": [
      "PyMOL>save processed_pdbs/5i9dA.pdb, chain A\n",
      " Save: wrote \"processed_pdbs/5i9dA.pdb\".\n"
     ]
    },
    {
     "name": "stderr",
     "output_type": "stream",
     "text": [
      "2024-10-04 15:48:13,408 - DEBUG - Deleted PDB object 5i9d from PyMOL\n"
     ]
    },
    {
     "name": "stdout",
     "output_type": "stream",
     "text": [
      "PyMOL>delete 5i9d\n"
     ]
    },
    {
     "name": "stderr",
     "output_type": "stream",
     "text": [
      "2024-10-04 15:48:18,410 - DEBUG - Processing PDB ID: 2y4u, Chain: A\n",
      "2024-10-04 15:48:18,412 - INFO - Fetched PDB ID: 2y4u\n"
     ]
    },
    {
     "name": "stdout",
     "output_type": "stream",
     "text": [
      "PyMOL>fetch 2y4u, async=0\n",
      "TITLE     Crystal structure of human P58(IPK) in space group P312\n",
      " ExecutiveLoad-Detail: Detected mmCIF\n",
      " CmdLoad: \"./2y4u.cif\" loaded as \"2y4u\".\n"
     ]
    },
    {
     "name": "stderr",
     "output_type": "stream",
     "text": [
      "2024-10-04 15:48:23,416 - DEBUG - Removed all chains except Chain A for PDB ID: 2y4u\n"
     ]
    },
    {
     "name": "stdout",
     "output_type": "stream",
     "text": [
      "PyMOL>remove not chain A\n"
     ]
    },
    {
     "name": "stderr",
     "output_type": "stream",
     "text": [
      "2024-10-04 15:48:28,422 - INFO - Saved Chain A of PDB ID 2y4u to processed_pdbs/2y4uA.pdb\n"
     ]
    },
    {
     "name": "stdout",
     "output_type": "stream",
     "text": [
      "PyMOL>save processed_pdbs/2y4uA.pdb, chain A\n",
      " Save: wrote \"processed_pdbs/2y4uA.pdb\".\n"
     ]
    },
    {
     "name": "stderr",
     "output_type": "stream",
     "text": [
      "2024-10-04 15:48:33,427 - DEBUG - Deleted PDB object 2y4u from PyMOL\n"
     ]
    },
    {
     "name": "stdout",
     "output_type": "stream",
     "text": [
      "PyMOL>delete 2y4u\n"
     ]
    },
    {
     "name": "stderr",
     "output_type": "stream",
     "text": [
      "2024-10-04 15:48:38,432 - DEBUG - Processing PDB ID: 7udk, Chain: A\n",
      "2024-10-04 15:48:38,434 - INFO - Fetched PDB ID: 7udk\n"
     ]
    },
    {
     "name": "stdout",
     "output_type": "stream",
     "text": [
      "PyMOL>fetch 7udk, async=0\n",
      "TITLE     Crystal structure of designed helical repeat protein RPB_LRP2_R4 bound to LRPx4 peptide\n",
      " ExecutiveLoad-Detail: Detected mmCIF\n",
      " CmdLoad: \"./7udk.cif\" loaded as \"7udk\".\n"
     ]
    },
    {
     "name": "stderr",
     "output_type": "stream",
     "text": [
      "2024-10-04 15:48:43,438 - DEBUG - Removed all chains except Chain A for PDB ID: 7udk\n"
     ]
    },
    {
     "name": "stdout",
     "output_type": "stream",
     "text": [
      "PyMOL>remove not chain A\n",
      " Remove: eliminated 104 atoms in model \"7udk\".\n"
     ]
    },
    {
     "name": "stderr",
     "output_type": "stream",
     "text": [
      "2024-10-04 15:48:48,443 - INFO - Saved Chain A of PDB ID 7udk to processed_pdbs/7udkA.pdb\n"
     ]
    },
    {
     "name": "stdout",
     "output_type": "stream",
     "text": [
      "PyMOL>save processed_pdbs/7udkA.pdb, chain A\n",
      " Save: wrote \"processed_pdbs/7udkA.pdb\".\n"
     ]
    },
    {
     "name": "stderr",
     "output_type": "stream",
     "text": [
      "2024-10-04 15:48:53,445 - DEBUG - Deleted PDB object 7udk from PyMOL\n"
     ]
    },
    {
     "name": "stdout",
     "output_type": "stream",
     "text": [
      "PyMOL>delete 7udk\n"
     ]
    },
    {
     "name": "stderr",
     "output_type": "stream",
     "text": [
      "2024-10-04 15:48:58,451 - DEBUG - Processing PDB ID: 5f5t, Chain: A\n",
      "2024-10-04 15:48:58,452 - INFO - Fetched PDB ID: 5f5t\n"
     ]
    },
    {
     "name": "stdout",
     "output_type": "stream",
     "text": [
      "PyMOL>fetch 5f5t, async=0\n",
      "TITLE     Crystal structure of the Prp38-MFAP1 complex of Chaetomium thermophilum\n",
      " ExecutiveLoad-Detail: Detected mmCIF\n",
      " CmdLoad: \"./5f5t.cif\" loaded as \"5f5t\".\n"
     ]
    },
    {
     "name": "stderr",
     "output_type": "stream",
     "text": [
      "2024-10-04 15:49:03,456 - DEBUG - Removed all chains except Chain A for PDB ID: 5f5t\n"
     ]
    },
    {
     "name": "stdout",
     "output_type": "stream",
     "text": [
      "PyMOL>remove not chain A\n",
      " Remove: eliminated 2802 atoms in model \"5f5t\".\n"
     ]
    },
    {
     "name": "stderr",
     "output_type": "stream",
     "text": [
      "2024-10-04 15:49:08,462 - INFO - Saved Chain A of PDB ID 5f5t to processed_pdbs/5f5tA.pdb\n"
     ]
    },
    {
     "name": "stdout",
     "output_type": "stream",
     "text": [
      "PyMOL>save processed_pdbs/5f5tA.pdb, chain A\n",
      " Save: wrote \"processed_pdbs/5f5tA.pdb\".\n"
     ]
    },
    {
     "name": "stderr",
     "output_type": "stream",
     "text": [
      "2024-10-04 15:49:13,467 - DEBUG - Deleted PDB object 5f5t from PyMOL\n"
     ]
    },
    {
     "name": "stdout",
     "output_type": "stream",
     "text": [
      "PyMOL>delete 5f5t\n"
     ]
    },
    {
     "name": "stderr",
     "output_type": "stream",
     "text": [
      "2024-10-04 15:49:18,473 - DEBUG - Processing PDB ID: 5mpd, Chain: Q\n",
      "2024-10-04 15:49:18,475 - INFO - Fetched PDB ID: 5mpd\n"
     ]
    },
    {
     "name": "stdout",
     "output_type": "stream",
     "text": [
      "PyMOL>fetch 5mpd, async=0\n",
      "TITLE     26S proteasome in presence of ATP (s1)\n",
      " ExecutiveLoad-Detail: Detected mmCIF\n",
      " CmdLoad: \"./5mpd.cif\" loaded as \"5mpd\".\n"
     ]
    },
    {
     "name": "stderr",
     "output_type": "stream",
     "text": [
      "2024-10-04 15:49:23,480 - DEBUG - Removed all chains except Chain Q for PDB ID: 5mpd\n"
     ]
    },
    {
     "name": "stdout",
     "output_type": "stream",
     "text": [
      "PyMOL>remove not chain Q\n",
      " Remove: eliminated 37926 atoms in model \"5mpd\".\n"
     ]
    },
    {
     "name": "stderr",
     "output_type": "stream",
     "text": [
      "2024-10-04 15:49:28,482 - INFO - Saved Chain Q of PDB ID 5mpd to processed_pdbs/5mpdQ.pdb\n"
     ]
    },
    {
     "name": "stdout",
     "output_type": "stream",
     "text": [
      "PyMOL>save processed_pdbs/5mpdQ.pdb, chain Q\n",
      " Save: wrote \"processed_pdbs/5mpdQ.pdb\".\n"
     ]
    },
    {
     "name": "stderr",
     "output_type": "stream",
     "text": [
      "2024-10-04 15:49:33,483 - DEBUG - Deleted PDB object 5mpd from PyMOL\n"
     ]
    },
    {
     "name": "stdout",
     "output_type": "stream",
     "text": [
      "PyMOL>delete 5mpd\n"
     ]
    },
    {
     "name": "stderr",
     "output_type": "stream",
     "text": [
      "2024-10-04 15:49:38,488 - DEBUG - Processing PDB ID: 5edl, Chain: A\n",
      "2024-10-04 15:49:38,489 - INFO - Fetched PDB ID: 5edl\n"
     ]
    },
    {
     "name": "stdout",
     "output_type": "stream",
     "text": [
      "PyMOL>fetch 5edl, async=0\n",
      "TITLE     Crystal structure of an S-component of ECF transporter\n",
      " ExecutiveLoad-Detail: Detected mmCIF\n",
      " CmdLoad: \"./5edl.cif\" loaded as \"5edl\".\n"
     ]
    },
    {
     "name": "stderr",
     "output_type": "stream",
     "text": [
      "2024-10-04 15:49:43,493 - DEBUG - Removed all chains except Chain A for PDB ID: 5edl\n"
     ]
    },
    {
     "name": "stdout",
     "output_type": "stream",
     "text": [
      "PyMOL>remove not chain A\n"
     ]
    },
    {
     "name": "stderr",
     "output_type": "stream",
     "text": [
      "2024-10-04 15:49:48,499 - INFO - Saved Chain A of PDB ID 5edl to processed_pdbs/5edlA.pdb\n"
     ]
    },
    {
     "name": "stdout",
     "output_type": "stream",
     "text": [
      "PyMOL>save processed_pdbs/5edlA.pdb, chain A\n",
      " Save: wrote \"processed_pdbs/5edlA.pdb\".\n"
     ]
    },
    {
     "name": "stderr",
     "output_type": "stream",
     "text": [
      "2024-10-04 15:49:53,500 - DEBUG - Deleted PDB object 5edl from PyMOL\n"
     ]
    },
    {
     "name": "stdout",
     "output_type": "stream",
     "text": [
      "PyMOL>delete 5edl\n"
     ]
    },
    {
     "name": "stderr",
     "output_type": "stream",
     "text": [
      "2024-10-04 15:49:58,502 - DEBUG - Processing PDB ID: 7kpx, Chain: C\n",
      "2024-10-04 15:49:58,504 - INFO - Fetched PDB ID: 7kpx\n"
     ]
    },
    {
     "name": "stdout",
     "output_type": "stream",
     "text": [
      "PyMOL>fetch 7kpx, async=0\n",
      "TITLE     Structure of the yeast CKM\n",
      " ExecutiveLoad-Detail: Detected mmCIF\n",
      " CmdLoad: \"./7kpx.cif\" loaded as \"7kpx\".\n"
     ]
    },
    {
     "name": "stderr",
     "output_type": "stream",
     "text": [
      "2024-10-04 15:50:03,509 - DEBUG - Removed all chains except Chain C for PDB ID: 7kpx\n"
     ]
    },
    {
     "name": "stdout",
     "output_type": "stream",
     "text": [
      "PyMOL>remove not chain C\n",
      " Remove: eliminated 13204 atoms in model \"7kpx\".\n"
     ]
    },
    {
     "name": "stderr",
     "output_type": "stream",
     "text": [
      "2024-10-04 15:50:08,513 - INFO - Saved Chain C of PDB ID 7kpx to processed_pdbs/7kpxC.pdb\n"
     ]
    },
    {
     "name": "stdout",
     "output_type": "stream",
     "text": [
      "PyMOL>save processed_pdbs/7kpxC.pdb, chain C\n",
      " Save: wrote \"processed_pdbs/7kpxC.pdb\".\n"
     ]
    },
    {
     "name": "stderr",
     "output_type": "stream",
     "text": [
      "2024-10-04 15:50:13,519 - DEBUG - Deleted PDB object 7kpx from PyMOL\n"
     ]
    },
    {
     "name": "stdout",
     "output_type": "stream",
     "text": [
      "PyMOL>delete 7kpx\n"
     ]
    },
    {
     "name": "stderr",
     "output_type": "stream",
     "text": [
      "2024-10-04 15:50:18,524 - DEBUG - Processing PDB ID: 1qrj, Chain: A\n",
      "2024-10-04 15:50:18,525 - INFO - Fetched PDB ID: 1qrj\n"
     ]
    },
    {
     "name": "stdout",
     "output_type": "stream",
     "text": [
      "PyMOL>fetch 1qrj, async=0\n",
      "TITLE     Solution structure of htlv-i capsid protein\n",
      " ExecutiveLoad-Detail: Detected mmCIF\n",
      " CmdLoad: \"./1qrj.cif\" loaded as \"1qrj\".\n"
     ]
    },
    {
     "name": "stderr",
     "output_type": "stream",
     "text": [
      "2024-10-04 15:50:23,529 - DEBUG - Removed all chains except Chain A for PDB ID: 1qrj\n"
     ]
    },
    {
     "name": "stdout",
     "output_type": "stream",
     "text": [
      "PyMOL>remove not chain A\n"
     ]
    },
    {
     "name": "stderr",
     "output_type": "stream",
     "text": [
      "2024-10-04 15:50:28,536 - INFO - Saved Chain A of PDB ID 1qrj to processed_pdbs/1qrjA.pdb\n"
     ]
    },
    {
     "name": "stdout",
     "output_type": "stream",
     "text": [
      "PyMOL>save processed_pdbs/1qrjA.pdb, chain A\n",
      " Save: wrote \"processed_pdbs/1qrjA.pdb\".\n"
     ]
    },
    {
     "name": "stderr",
     "output_type": "stream",
     "text": [
      "2024-10-04 15:50:33,538 - DEBUG - Deleted PDB object 1qrj from PyMOL\n"
     ]
    },
    {
     "name": "stdout",
     "output_type": "stream",
     "text": [
      "PyMOL>delete 1qrj\n"
     ]
    },
    {
     "name": "stderr",
     "output_type": "stream",
     "text": [
      "2024-10-04 15:50:38,543 - DEBUG - Processing PDB ID: s001, Chain: A\n",
      "2024-10-04 15:50:38,545 - INFO - Fetched PDB ID: s001\n"
     ]
    },
    {
     "name": "stdout",
     "output_type": "stream",
     "text": [
      "PyMOL>fetch s001, async=0\n",
      " Warning: failed to fetch from https://files.rcsb.org/download/s001.cif.gz\n",
      " Warning: failed to fetch from https://files.wwpdb.org/pub/pdb/data/structures/divided/mmCIF/00/s001.cif.gz\n",
      " Warning: failed to fetch from https://files-versioned.wwpdb.org/pdb_versioned/views/latest/coordinates/mmcif/00/pdb_0000s001/pdb_0000s001_xyz.cif.gz\n",
      " Error-fetch: unable to load 's001'.\n"
     ]
    },
    {
     "name": "stderr",
     "output_type": "stream",
     "text": [
      "2024-10-04 15:50:43,550 - DEBUG - Removed all chains except Chain A for PDB ID: s001\n"
     ]
    },
    {
     "name": "stdout",
     "output_type": "stream",
     "text": [
      "PyMOL>remove not chain A\n"
     ]
    },
    {
     "name": "stderr",
     "output_type": "stream",
     "text": [
      "2024-10-04 15:50:48,556 - INFO - Saved Chain A of PDB ID s001 to processed_pdbs/s001A.pdb\n"
     ]
    },
    {
     "name": "stdout",
     "output_type": "stream",
     "text": [
      "PyMOL>save processed_pdbs/s001A.pdb, chain A\n",
      " Save: wrote \"processed_pdbs/s001A.pdb\".\n"
     ]
    },
    {
     "name": "stderr",
     "output_type": "stream",
     "text": [
      "2024-10-04 15:50:53,564 - DEBUG - Deleted PDB object s001 from PyMOL\n"
     ]
    },
    {
     "name": "stdout",
     "output_type": "stream",
     "text": [
      "PyMOL>delete s001\n"
     ]
    },
    {
     "name": "stderr",
     "output_type": "stream",
     "text": [
      "2024-10-04 15:50:58,575 - ERROR - Error terminating PyMOL session: 'pymolPy3' object has no attribute 'quit'\n"
     ]
    }
   ],
   "source": [
    "import os\n",
    "import re\n",
    "import logging\n",
    "import time\n",
    "import shutil  # To handle file operations\n",
    "import pymolPy3  # Ensure this module is correctly installed and accessible\n",
    "\n",
    "# Configure logging\n",
    "logging.basicConfig(\n",
    "    level=logging.DEBUG,  # Set to INFO or WARNING to reduce verbosity\n",
    "    format='%(asctime)s - %(levelname)s - %(message)s',\n",
    "    handlers=[\n",
    "        logging.FileHandler(\"pymol_processing.log\"),\n",
    "        logging.StreamHandler()\n",
    "    ]\n",
    ")\n",
    "\n",
    "# Step 1: Extract Unique PDB IDs and Chains from the DALI result file\n",
    "def extract_unique_pdb_ids_and_chains(file_path):\n",
    "    \"\"\"\n",
    "    Parses the DALI result file to extract unique PDB IDs and their corresponding chains.\n",
    "    \n",
    "    Args:\n",
    "        file_path (str): Path to the DALI result file.\n",
    "    \n",
    "    Returns:\n",
    "        dict: A dictionary with PDB IDs as keys and chain identifiers as values.\n",
    "    \"\"\"\n",
    "    pdb_chain_dict = {}\n",
    "    try:\n",
    "        with open(file_path, 'r') as file:\n",
    "            for line in file:\n",
    "                line = line.strip()\n",
    "                # Adjust the regex based on the actual format of your DALI result file\n",
    "                match = re.search(r'^(\\d+):\\s+(\\w{4})-(\\w)', line)\n",
    "                if match:\n",
    "                    pdb_id = match.group(2).lower()  # PDB IDs are typically lowercase\n",
    "                    chain_id = match.group(3)\n",
    "                    if pdb_id not in pdb_chain_dict:\n",
    "                        pdb_chain_dict[pdb_id] = chain_id\n",
    "    except Exception as e:\n",
    "        logging.error(f\"Error reading or processing the DALI result file: {e}\")\n",
    "    return pdb_chain_dict\n",
    "\n",
    "# Step 2: Initialize PyMOL\n",
    "def initialize_pymol():\n",
    "    \"\"\"\n",
    "    Initializes PyMOL without the GUI.\n",
    "    \n",
    "    Returns:\n",
    "        pymolPy3.pymolPy3: An instance of the PyMOL interface.\n",
    "    \"\"\"\n",
    "    try:\n",
    "        pm = pymolPy3.pymolPy3(0)  # Initialize without GUI\n",
    "        logging.info(\"PyMOL initialized successfully.\")\n",
    "        return pm\n",
    "    except Exception as e:\n",
    "        logging.error(f\"Failed to initialize PyMOL: {e}\")\n",
    "        raise\n",
    "\n",
    "# Step 3: Fetch, Process, and Save PDB Files Sequentially\n",
    "def process_pdb_files(pm, pdb_chain_dict, output_directory):\n",
    "    \"\"\"\n",
    "    Fetches PDB structures, extracts specified chains, and saves them as separate PDB files.\n",
    "    \n",
    "    Args:\n",
    "        pm (pymolPy3.pymolPy3): The PyMOL interface instance.\n",
    "        pdb_chain_dict (dict): Dictionary with PDB IDs and their corresponding chains.\n",
    "        output_directory (str): Directory to save the processed PDB files.\n",
    "    \"\"\"\n",
    "    if not os.path.exists(output_directory):\n",
    "        os.makedirs(output_directory)\n",
    "        logging.debug(f\"Created output directory: {output_directory}\")\n",
    "    \n",
    "    for pdb_id, chain_id in pdb_chain_dict.items():\n",
    "        try:\n",
    "            logging.debug(f\"Processing PDB ID: {pdb_id}, Chain: {chain_id}\")\n",
    "            \n",
    "            # Fetch the PDB structure\n",
    "            fetch_command = f\"fetch {pdb_id}, async=0\"  # async=0 to wait for completion\n",
    "            pm(fetch_command)\n",
    "            logging.info(f\"Fetched PDB ID: {pdb_id}\")\n",
    "            \n",
    "            # Introduce a short delay to ensure fetching is complete\n",
    "            time.sleep(5)\n",
    "            \n",
    "            # Save the fetched CIF to root directory\n",
    "            cif_output = f\"{pdb_id}.cif\"\n",
    "            save_cif_command = f\"save {cif_output}, {pdb_id}, format=cif\"\n",
    "            pm(save_cif_command)\n",
    "            logging.info(f\"Saved CIF for PDB ID: {pdb_id} to {cif_output}\")\n",
    "            \n",
    "            # Introduce a short delay to ensure saving is complete\n",
    "            time.sleep(5)\n",
    "            \n",
    "            # Remove all chains except the specified one\n",
    "            remove_command = f\"remove not chain {chain_id}\"\n",
    "            pm(remove_command)\n",
    "            logging.debug(f\"Removed all chains except Chain {chain_id} for PDB ID: {pdb_id}\")\n",
    "            \n",
    "            # Introduce a short delay to ensure removal is complete\n",
    "            time.sleep(5)\n",
    "            \n",
    "            # Define the output PDB filename\n",
    "            output_pdb = f\"{pdb_id}{chain_id}.pdb\"\n",
    "            output_path = os.path.join(output_directory, output_pdb)\n",
    "            \n",
    "            # Save the specified chain to the output directory\n",
    "            save_pdb_command = f\"save {output_path}, chain {chain_id}\"\n",
    "            pm(save_pdb_command)\n",
    "            logging.info(f\"Saved Chain {chain_id} of PDB ID {pdb_id} to {output_path}\")\n",
    "            \n",
    "            # Introduce a short delay to ensure saving is complete\n",
    "            time.sleep(5)\n",
    "            \n",
    "            # Clear the specific PDB object to free memory\n",
    "            clear_command = f\"delete {pdb_id}\"\n",
    "            pm(clear_command)\n",
    "            logging.debug(f\"Deleted PDB object {pdb_id} from PyMOL\")\n",
    "            \n",
    "            # Introduce a short delay to ensure deletion is complete\n",
    "            time.sleep(5)\n",
    "        \n",
    "        except Exception as e:\n",
    "            logging.error(f\"Error processing PDB ID {pdb_id}: {e}\")\n",
    "            # Continue processing other PDB IDs\n",
    "\n",
    "# Step 4: Copy CIF Files to 'downloaded_pdbs' and Delete Originals\n",
    "def copy_cif_files(destination_directory, pdb_ids):\n",
    "    \"\"\"\n",
    "    Copies CIF files from the root directory to 'downloaded_pdbs' and deletes originals to save space.\n",
    "    \n",
    "    Args:\n",
    "        destination_directory (str): Directory to copy CIF files to.\n",
    "        pdb_ids (list): List of PDB IDs whose CIF files need to be copied.\n",
    "    \"\"\"\n",
    "    if not os.path.exists(destination_directory):\n",
    "        os.makedirs(destination_directory)\n",
    "        logging.debug(f\"Created directory: {destination_directory}\")\n",
    "    \n",
    "    for pdb_id in pdb_ids:\n",
    "        source_cif = f\"{pdb_id}.cif\"\n",
    "        destination_cif = os.path.join(destination_directory, f\"{pdb_id}.cif\")\n",
    "        \n",
    "        if os.path.exists(source_cif):\n",
    "            try:\n",
    "                shutil.move(source_cif, destination_cif)\n",
    "                logging.info(f\"Moved {source_cif} to {destination_cif}\")\n",
    "            except Exception as e:\n",
    "                logging.error(f\"Error moving {source_cif} to {destination_cif}: {e}\")\n",
    "        else:\n",
    "            logging.warning(f\"CIF file for PDB ID {pdb_id} not found in root directory.\")\n",
    "\n",
    "# Step 5: Main Workflow\n",
    "def main():\n",
    "    dali_result_path = '8a1dA.txt'  # Path to your DALI result file (remember to chnage the file when using this script)\n",
    "    output_directory = 'processed_pdbs'  # Directory to save the processed PDB files\n",
    "    downloaded_pdbs_directory = 'downloaded_pdbs'  # Directory to save the downloaded CIF files\n",
    "    source_cif_directory = '.'  # Directory where original CIF files are located (root directory)\n",
    "    \n",
    "    # Step 1: Extract unique PDB IDs and chains\n",
    "    pdb_chain_dict = extract_unique_pdb_ids_and_chains(dali_result_path)\n",
    "    if not pdb_chain_dict:\n",
    "        logging.warning(\"No PDB IDs and chains extracted. Exiting the script.\")\n",
    "        return\n",
    "    logging.info(f\"Unique PDB IDs extracted: {list(pdb_chain_dict.keys())}\")\n",
    "    \n",
    "    # Step 2: Initialize PyMOL\n",
    "    pm = initialize_pymol()\n",
    "    \n",
    "    # Step 3: Fetch, Process, and Save PDB Files\n",
    "    process_pdb_files(pm, pdb_chain_dict, output_directory)\n",
    "    \n",
    "    # Step 4: Copy CIF Files to 'downloaded_pdbs' and Delete Originals\n",
    "    copy_cif_files(downloaded_pdbs_directory, list(pdb_chain_dict.keys()))\n",
    "    \n",
    "    # Finalize PyMOL\n",
    "    try:\n",
    "        quit_command = f\"quit\"\n",
    "        pm(quit_command)  # Note: 'quit' method may not exist in pymolPy3\n",
    "        logging.info(\"PyMOL session terminated successfully.\")\n",
    "    except AttributeError:\n",
    "        logging.error(\"Error terminating PyMOL session: 'pymolPy3' object has no attribute 'quit'\")\n",
    "    except Exception as e:\n",
    "        logging.error(f\"Error terminating PyMOL session: {e}\")\n",
    "\n",
    "if __name__ == '__main__':\n",
    "    main()\n"
   ]
  }
 ],
 "metadata": {
  "kernelspec": {
   "display_name": "BIOF3005HW2",
   "language": "python",
   "name": "python3"
  },
  "language_info": {
   "codemirror_mode": {
    "name": "ipython",
    "version": 3
   },
   "file_extension": ".py",
   "mimetype": "text/x-python",
   "name": "python",
   "nbconvert_exporter": "python",
   "pygments_lexer": "ipython3",
   "version": "3.12.6"
  }
 },
 "nbformat": 4,
 "nbformat_minor": 2
}
